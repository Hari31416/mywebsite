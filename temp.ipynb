{
 "cells": [
  {
   "cell_type": "code",
   "execution_count": 1,
   "metadata": {},
   "outputs": [],
   "source": [
    "import os\n",
    "os.environ.setdefault(\"DJANGO_SETTINGS_MODULE\", \"mywebsite.settings\")\n",
    "\n",
    "import django\n",
    "os.environ[\"DJANGO_ALLOW_ASYNC_UNSAFE\"] = \"true\"\n",
    "django.setup()\n",
    "from image.models import ImageFile\n",
    "from PIL import Image\n",
    "from django.utils import timezone"
   ]
  },
  {
   "cell_type": "code",
   "execution_count": 15,
   "metadata": {},
   "outputs": [
    {
     "ename": "FileNotFoundError",
     "evalue": "[WinError 2] The system cannot find the file specified: 'media\\\\images\\\\converted\\\\RC_2.jpg'",
     "output_type": "error",
     "traceback": [
      "\u001b[1;31m---------------------------------------------------------------------------\u001b[0m",
      "\u001b[1;31mFileNotFoundError\u001b[0m                         Traceback (most recent call last)",
      "\u001b[1;32m<ipython-input-15-442332020d70>\u001b[0m in \u001b[0;36m<module>\u001b[1;34m\u001b[0m\n\u001b[0;32m      1\u001b[0m \u001b[0murl\u001b[0m \u001b[1;33m=\u001b[0m \u001b[1;34m\"media\\images\\converted\\RC_2.jpg\"\u001b[0m\u001b[1;33m\u001b[0m\u001b[1;33m\u001b[0m\u001b[0m\n\u001b[1;32m----> 2\u001b[1;33m \u001b[0mos\u001b[0m\u001b[1;33m.\u001b[0m\u001b[0mpath\u001b[0m\u001b[1;33m.\u001b[0m\u001b[0mgetsize\u001b[0m\u001b[1;33m(\u001b[0m\u001b[0murl\u001b[0m\u001b[1;33m)\u001b[0m\u001b[1;33m\u001b[0m\u001b[1;33m\u001b[0m\u001b[0m\n\u001b[0m",
      "\u001b[1;32m~\\anaconda3\\lib\\genericpath.py\u001b[0m in \u001b[0;36mgetsize\u001b[1;34m(filename)\u001b[0m\n\u001b[0;32m     48\u001b[0m \u001b[1;32mdef\u001b[0m \u001b[0mgetsize\u001b[0m\u001b[1;33m(\u001b[0m\u001b[0mfilename\u001b[0m\u001b[1;33m)\u001b[0m\u001b[1;33m:\u001b[0m\u001b[1;33m\u001b[0m\u001b[1;33m\u001b[0m\u001b[0m\n\u001b[0;32m     49\u001b[0m     \u001b[1;34m\"\"\"Return the size of a file, reported by os.stat().\"\"\"\u001b[0m\u001b[1;33m\u001b[0m\u001b[1;33m\u001b[0m\u001b[0m\n\u001b[1;32m---> 50\u001b[1;33m     \u001b[1;32mreturn\u001b[0m \u001b[0mos\u001b[0m\u001b[1;33m.\u001b[0m\u001b[0mstat\u001b[0m\u001b[1;33m(\u001b[0m\u001b[0mfilename\u001b[0m\u001b[1;33m)\u001b[0m\u001b[1;33m.\u001b[0m\u001b[0mst_size\u001b[0m\u001b[1;33m\u001b[0m\u001b[1;33m\u001b[0m\u001b[0m\n\u001b[0m\u001b[0;32m     51\u001b[0m \u001b[1;33m\u001b[0m\u001b[0m\n\u001b[0;32m     52\u001b[0m \u001b[1;33m\u001b[0m\u001b[0m\n",
      "\u001b[1;31mFileNotFoundError\u001b[0m: [WinError 2] The system cannot find the file specified: 'media\\\\images\\\\converted\\\\RC_2.jpg'"
     ]
    }
   ],
   "source": [
    "url = \"media\\images\\converted\\RC_2.jpg\"\n",
    "os.path.getsize(url)"
   ]
  },
  {
   "cell_type": "code",
   "execution_count": 2,
   "metadata": {},
   "outputs": [
    {
     "data": {
      "text/plain": [
       "(25, {'image.ImageFile': 25})"
      ]
     },
     "execution_count": 2,
     "metadata": {},
     "output_type": "execute_result"
    }
   ],
   "source": [
    "ImageFile.objects.all().delete()"
   ]
  },
  {
   "cell_type": "code",
   "execution_count": 13,
   "metadata": {},
   "outputs": [
    {
     "data": {
      "text/plain": [
       "'images/o3415227414782580788_2.jpg'"
      ]
     },
     "execution_count": 13,
     "metadata": {},
     "output_type": "execute_result"
    }
   ],
   "source": [
    "im = ImageFile.objects.filter(img_date__lte=timezone.now())[0]\n",
    "im.img_file.name"
   ]
  },
  {
   "cell_type": "code",
   "execution_count": 7,
   "metadata": {},
   "outputs": [
    {
     "data": {
      "text/plain": [
       "'https://res.cloudinary.com/dimmmylex/image/upload/v1/media/images/PYL742_General_Relativity_rE4PAD3.png'"
      ]
     },
     "execution_count": 7,
     "metadata": {},
     "output_type": "execute_result"
    }
   ],
   "source": [
    "im.img_file.url"
   ]
  },
  {
   "cell_type": "code",
   "execution_count": 15,
   "metadata": {},
   "outputs": [
    {
     "data": {
      "text/plain": [
       "'images/PYL742_General_Relativity_rE4PAD3.png'"
      ]
     },
     "execution_count": 15,
     "metadata": {},
     "output_type": "execute_result"
    }
   ],
   "source": [
    "im.img_file.name"
   ]
  },
  {
   "cell_type": "code",
   "execution_count": 16,
   "metadata": {},
   "outputs": [
    {
     "ename": "OSError",
     "evalue": "",
     "output_type": "error",
     "traceback": [
      "\u001b[1;31m---------------------------------------------------------------------------\u001b[0m",
      "\u001b[1;31mOSError\u001b[0m                                   Traceback (most recent call last)",
      "\u001b[1;32m<ipython-input-16-e4a534f1eea5>\u001b[0m in \u001b[0;36m<module>\u001b[1;34m\u001b[0m\n\u001b[1;32m----> 1\u001b[1;33m \u001b[0mImage\u001b[0m\u001b[1;33m.\u001b[0m\u001b[0mopen\u001b[0m\u001b[1;33m(\u001b[0m\u001b[0mim\u001b[0m\u001b[1;33m.\u001b[0m\u001b[0mimg_file\u001b[0m\u001b[1;33m)\u001b[0m\u001b[1;33m\u001b[0m\u001b[1;33m\u001b[0m\u001b[0m\n\u001b[0m",
      "\u001b[1;32m~\\anaconda3\\lib\\site-packages\\PIL\\Image.py\u001b[0m in \u001b[0;36mopen\u001b[1;34m(fp, mode, formats)\u001b[0m\n\u001b[0;32m   2893\u001b[0m \u001b[1;33m\u001b[0m\u001b[0m\n\u001b[0;32m   2894\u001b[0m     \u001b[1;32mtry\u001b[0m\u001b[1;33m:\u001b[0m\u001b[1;33m\u001b[0m\u001b[1;33m\u001b[0m\u001b[0m\n\u001b[1;32m-> 2895\u001b[1;33m         \u001b[0mfp\u001b[0m\u001b[1;33m.\u001b[0m\u001b[0mseek\u001b[0m\u001b[1;33m(\u001b[0m\u001b[1;36m0\u001b[0m\u001b[1;33m)\u001b[0m\u001b[1;33m\u001b[0m\u001b[1;33m\u001b[0m\u001b[0m\n\u001b[0m\u001b[0;32m   2896\u001b[0m     \u001b[1;32mexcept\u001b[0m \u001b[1;33m(\u001b[0m\u001b[0mAttributeError\u001b[0m\u001b[1;33m,\u001b[0m \u001b[0mio\u001b[0m\u001b[1;33m.\u001b[0m\u001b[0mUnsupportedOperation\u001b[0m\u001b[1;33m)\u001b[0m\u001b[1;33m:\u001b[0m\u001b[1;33m\u001b[0m\u001b[1;33m\u001b[0m\u001b[0m\n\u001b[0;32m   2897\u001b[0m         \u001b[0mfp\u001b[0m \u001b[1;33m=\u001b[0m \u001b[0mio\u001b[0m\u001b[1;33m.\u001b[0m\u001b[0mBytesIO\u001b[0m\u001b[1;33m(\u001b[0m\u001b[0mfp\u001b[0m\u001b[1;33m.\u001b[0m\u001b[0mread\u001b[0m\u001b[1;33m(\u001b[0m\u001b[1;33m)\u001b[0m\u001b[1;33m)\u001b[0m\u001b[1;33m\u001b[0m\u001b[1;33m\u001b[0m\u001b[0m\n",
      "\u001b[1;32m~\\anaconda3\\lib\\site-packages\\django\\core\\files\\utils.py\u001b[0m in \u001b[0;36m<lambda>\u001b[1;34m(self)\u001b[0m\n\u001b[0;32m     44\u001b[0m     \u001b[0mreadline\u001b[0m \u001b[1;33m=\u001b[0m \u001b[0mproperty\u001b[0m\u001b[1;33m(\u001b[0m\u001b[1;32mlambda\u001b[0m \u001b[0mself\u001b[0m\u001b[1;33m:\u001b[0m \u001b[0mself\u001b[0m\u001b[1;33m.\u001b[0m\u001b[0mfile\u001b[0m\u001b[1;33m.\u001b[0m\u001b[0mreadline\u001b[0m\u001b[1;33m)\u001b[0m\u001b[1;33m\u001b[0m\u001b[1;33m\u001b[0m\u001b[0m\n\u001b[0;32m     45\u001b[0m     \u001b[0mreadlines\u001b[0m \u001b[1;33m=\u001b[0m \u001b[0mproperty\u001b[0m\u001b[1;33m(\u001b[0m\u001b[1;32mlambda\u001b[0m \u001b[0mself\u001b[0m\u001b[1;33m:\u001b[0m \u001b[0mself\u001b[0m\u001b[1;33m.\u001b[0m\u001b[0mfile\u001b[0m\u001b[1;33m.\u001b[0m\u001b[0mreadlines\u001b[0m\u001b[1;33m)\u001b[0m\u001b[1;33m\u001b[0m\u001b[1;33m\u001b[0m\u001b[0m\n\u001b[1;32m---> 46\u001b[1;33m     \u001b[0mseek\u001b[0m \u001b[1;33m=\u001b[0m \u001b[0mproperty\u001b[0m\u001b[1;33m(\u001b[0m\u001b[1;32mlambda\u001b[0m \u001b[0mself\u001b[0m\u001b[1;33m:\u001b[0m \u001b[0mself\u001b[0m\u001b[1;33m.\u001b[0m\u001b[0mfile\u001b[0m\u001b[1;33m.\u001b[0m\u001b[0mseek\u001b[0m\u001b[1;33m)\u001b[0m\u001b[1;33m\u001b[0m\u001b[1;33m\u001b[0m\u001b[0m\n\u001b[0m\u001b[0;32m     47\u001b[0m     \u001b[0mtell\u001b[0m \u001b[1;33m=\u001b[0m \u001b[0mproperty\u001b[0m\u001b[1;33m(\u001b[0m\u001b[1;32mlambda\u001b[0m \u001b[0mself\u001b[0m\u001b[1;33m:\u001b[0m \u001b[0mself\u001b[0m\u001b[1;33m.\u001b[0m\u001b[0mfile\u001b[0m\u001b[1;33m.\u001b[0m\u001b[0mtell\u001b[0m\u001b[1;33m)\u001b[0m\u001b[1;33m\u001b[0m\u001b[1;33m\u001b[0m\u001b[0m\n\u001b[0;32m     48\u001b[0m     \u001b[0mtruncate\u001b[0m \u001b[1;33m=\u001b[0m \u001b[0mproperty\u001b[0m\u001b[1;33m(\u001b[0m\u001b[1;32mlambda\u001b[0m \u001b[0mself\u001b[0m\u001b[1;33m:\u001b[0m \u001b[0mself\u001b[0m\u001b[1;33m.\u001b[0m\u001b[0mfile\u001b[0m\u001b[1;33m.\u001b[0m\u001b[0mtruncate\u001b[0m\u001b[1;33m)\u001b[0m\u001b[1;33m\u001b[0m\u001b[1;33m\u001b[0m\u001b[0m\n",
      "\u001b[1;32m~\\anaconda3\\lib\\site-packages\\django\\db\\models\\fields\\files.py\u001b[0m in \u001b[0;36m_get_file\u001b[1;34m(self)\u001b[0m\n\u001b[0;32m     43\u001b[0m         \u001b[0mself\u001b[0m\u001b[1;33m.\u001b[0m\u001b[0m_require_file\u001b[0m\u001b[1;33m(\u001b[0m\u001b[1;33m)\u001b[0m\u001b[1;33m\u001b[0m\u001b[1;33m\u001b[0m\u001b[0m\n\u001b[0;32m     44\u001b[0m         \u001b[1;32mif\u001b[0m \u001b[0mgetattr\u001b[0m\u001b[1;33m(\u001b[0m\u001b[0mself\u001b[0m\u001b[1;33m,\u001b[0m \u001b[1;34m'_file'\u001b[0m\u001b[1;33m,\u001b[0m \u001b[1;32mNone\u001b[0m\u001b[1;33m)\u001b[0m \u001b[1;32mis\u001b[0m \u001b[1;32mNone\u001b[0m\u001b[1;33m:\u001b[0m\u001b[1;33m\u001b[0m\u001b[1;33m\u001b[0m\u001b[0m\n\u001b[1;32m---> 45\u001b[1;33m             \u001b[0mself\u001b[0m\u001b[1;33m.\u001b[0m\u001b[0m_file\u001b[0m \u001b[1;33m=\u001b[0m \u001b[0mself\u001b[0m\u001b[1;33m.\u001b[0m\u001b[0mstorage\u001b[0m\u001b[1;33m.\u001b[0m\u001b[0mopen\u001b[0m\u001b[1;33m(\u001b[0m\u001b[0mself\u001b[0m\u001b[1;33m.\u001b[0m\u001b[0mname\u001b[0m\u001b[1;33m,\u001b[0m \u001b[1;34m'rb'\u001b[0m\u001b[1;33m)\u001b[0m\u001b[1;33m\u001b[0m\u001b[1;33m\u001b[0m\u001b[0m\n\u001b[0m\u001b[0;32m     46\u001b[0m         \u001b[1;32mreturn\u001b[0m \u001b[0mself\u001b[0m\u001b[1;33m.\u001b[0m\u001b[0m_file\u001b[0m\u001b[1;33m\u001b[0m\u001b[1;33m\u001b[0m\u001b[0m\n\u001b[0;32m     47\u001b[0m \u001b[1;33m\u001b[0m\u001b[0m\n",
      "\u001b[1;32m~\\anaconda3\\lib\\site-packages\\django\\core\\files\\storage.py\u001b[0m in \u001b[0;36mopen\u001b[1;34m(self, name, mode)\u001b[0m\n\u001b[0;32m     36\u001b[0m     \u001b[1;32mdef\u001b[0m \u001b[0mopen\u001b[0m\u001b[1;33m(\u001b[0m\u001b[0mself\u001b[0m\u001b[1;33m,\u001b[0m \u001b[0mname\u001b[0m\u001b[1;33m,\u001b[0m \u001b[0mmode\u001b[0m\u001b[1;33m=\u001b[0m\u001b[1;34m'rb'\u001b[0m\u001b[1;33m)\u001b[0m\u001b[1;33m:\u001b[0m\u001b[1;33m\u001b[0m\u001b[1;33m\u001b[0m\u001b[0m\n\u001b[0;32m     37\u001b[0m         \u001b[1;34m\"\"\"Retrieve the specified file from storage.\"\"\"\u001b[0m\u001b[1;33m\u001b[0m\u001b[1;33m\u001b[0m\u001b[0m\n\u001b[1;32m---> 38\u001b[1;33m         \u001b[1;32mreturn\u001b[0m \u001b[0mself\u001b[0m\u001b[1;33m.\u001b[0m\u001b[0m_open\u001b[0m\u001b[1;33m(\u001b[0m\u001b[0mname\u001b[0m\u001b[1;33m,\u001b[0m \u001b[0mmode\u001b[0m\u001b[1;33m)\u001b[0m\u001b[1;33m\u001b[0m\u001b[1;33m\u001b[0m\u001b[0m\n\u001b[0m\u001b[0;32m     39\u001b[0m \u001b[1;33m\u001b[0m\u001b[0m\n\u001b[0;32m     40\u001b[0m     \u001b[1;32mdef\u001b[0m \u001b[0msave\u001b[0m\u001b[1;33m(\u001b[0m\u001b[0mself\u001b[0m\u001b[1;33m,\u001b[0m \u001b[0mname\u001b[0m\u001b[1;33m,\u001b[0m \u001b[0mcontent\u001b[0m\u001b[1;33m,\u001b[0m \u001b[0mmax_length\u001b[0m\u001b[1;33m=\u001b[0m\u001b[1;32mNone\u001b[0m\u001b[1;33m)\u001b[0m\u001b[1;33m:\u001b[0m\u001b[1;33m\u001b[0m\u001b[1;33m\u001b[0m\u001b[0m\n",
      "\u001b[1;32m~\\anaconda3\\lib\\site-packages\\cloudinary_storage\\storage.py\u001b[0m in \u001b[0;36m_open\u001b[1;34m(self, name, mode)\u001b[0m\n\u001b[0;32m     48\u001b[0m         \u001b[0mresponse\u001b[0m \u001b[1;33m=\u001b[0m \u001b[0mrequests\u001b[0m\u001b[1;33m.\u001b[0m\u001b[0mget\u001b[0m\u001b[1;33m(\u001b[0m\u001b[0murl\u001b[0m\u001b[1;33m)\u001b[0m\u001b[1;33m\u001b[0m\u001b[1;33m\u001b[0m\u001b[0m\n\u001b[0;32m     49\u001b[0m         \u001b[1;32mif\u001b[0m \u001b[0mresponse\u001b[0m\u001b[1;33m.\u001b[0m\u001b[0mstatus_code\u001b[0m \u001b[1;33m==\u001b[0m \u001b[1;36m404\u001b[0m\u001b[1;33m:\u001b[0m\u001b[1;33m\u001b[0m\u001b[1;33m\u001b[0m\u001b[0m\n\u001b[1;32m---> 50\u001b[1;33m             \u001b[1;32mraise\u001b[0m \u001b[0mIOError\u001b[0m\u001b[1;33m\u001b[0m\u001b[1;33m\u001b[0m\u001b[0m\n\u001b[0m\u001b[0;32m     51\u001b[0m         \u001b[0mresponse\u001b[0m\u001b[1;33m.\u001b[0m\u001b[0mraise_for_status\u001b[0m\u001b[1;33m(\u001b[0m\u001b[1;33m)\u001b[0m\u001b[1;33m\u001b[0m\u001b[1;33m\u001b[0m\u001b[0m\n\u001b[0;32m     52\u001b[0m         \u001b[0mfile\u001b[0m \u001b[1;33m=\u001b[0m \u001b[0mContentFile\u001b[0m\u001b[1;33m(\u001b[0m\u001b[0mresponse\u001b[0m\u001b[1;33m.\u001b[0m\u001b[0mcontent\u001b[0m\u001b[1;33m)\u001b[0m\u001b[1;33m\u001b[0m\u001b[1;33m\u001b[0m\u001b[0m\n",
      "\u001b[1;31mOSError\u001b[0m: "
     ]
    }
   ],
   "source": [
    "Image.open(im.img_file)"
   ]
  },
  {
   "cell_type": "code",
   "execution_count": 8,
   "metadata": {},
   "outputs": [],
   "source": [
    "def get_thumbnail(self, height=200):\n",
    "        \"\"\"\n",
    "        Returns thumbnail of the image\n",
    "        Keeps the aspect ratio unchanged\n",
    "        \"\"\"\n",
    "        img = Image.open(self.img_file)\n",
    "        ratio = self.img_file.width / self.img_file.height\n",
    "        width = int(ratio * height)\n",
    "        img = img.resize((width, height), Image.ANTIALIAS)\n",
    "        thumb_dir = os.path.join(\"media\", \"images\", \"thumb\")\n",
    "        print(\"SEE HERE\")\n",
    "        print(self.img_file.name.split(\"/\")[1])\n",
    "        file_dir = os.path.join(thumb_dir, self.img_file.name.split(\"/\")[1])\n",
    "        img.save(file_dir)\n",
    "        self.thumb_file = file_dir.replace(\"\\\\\", \"/\")\n",
    "        return self.thumb_file"
   ]
  },
  {
   "cell_type": "code",
   "execution_count": 3,
   "metadata": {},
   "outputs": [
    {
     "name": "stdout",
     "output_type": "stream",
     "text": [
      "IMAGE: media/images/converted/samplepng_sCaLY9c.jpg\n",
      "1 iteration\n",
      "media/images/converted/samplepng_sCaLY9c.jpg\n",
      "Original size: 81.1689453125 KB\n",
      "media\\images\\resize\\samplepng_sCaLY9c.jpg\n",
      "300 KB -> 233.990234375 KB\n",
      "('media/images/converted/samplepng_sCaLY9c.jpg', 'No', 81.17)\n",
      "<class 'tuple'>\n"
     ]
    },
    {
     "data": {
      "text/plain": [
       "tuple"
      ]
     },
     "execution_count": 3,
     "metadata": {},
     "output_type": "execute_result"
    }
   ],
   "source": [
    "a = im.resize_image(300)\n",
    "type(a)"
   ]
  },
  {
   "cell_type": "code",
   "execution_count": null,
   "metadata": {},
   "outputs": [],
   "source": []
  },
  {
   "cell_type": "code",
   "execution_count": 4,
   "metadata": {},
   "outputs": [
    {
     "data": {
      "text/plain": [
       "('media/images/converted/samplepng_sCaLY9c.jpg', 'No', 81.17)"
      ]
     },
     "execution_count": 4,
     "metadata": {},
     "output_type": "execute_result"
    }
   ],
   "source": [
    "a"
   ]
  },
  {
   "cell_type": "code",
   "execution_count": 5,
   "metadata": {},
   "outputs": [],
   "source": [
    "def get_none(x):\n",
    "    if x>4:\n",
    "        return x,2\n",
    "\n",
    "    return x,4"
   ]
  },
  {
   "cell_type": "code",
   "execution_count": 9,
   "metadata": {},
   "outputs": [
    {
     "data": {
      "text/plain": [
       "(2, 4)"
      ]
     },
     "execution_count": 9,
     "metadata": {},
     "output_type": "execute_result"
    }
   ],
   "source": [
    "a, b = get_none(2)\n",
    "a, b"
   ]
  },
  {
   "cell_type": "code",
   "execution_count": 15,
   "metadata": {},
   "outputs": [
    {
     "ename": "FileNotFoundError",
     "evalue": "[Errno 2] No such file or directory: 'C:\\\\Users\\\\harik\\\\Desktop\\\\mywebsite\\\\media\\\\samplepng.png'",
     "output_type": "error",
     "traceback": [
      "\u001b[1;31m---------------------------------------------------------------------------\u001b[0m",
      "\u001b[1;31mFileNotFoundError\u001b[0m                         Traceback (most recent call last)",
      "\u001b[1;32m<ipython-input-15-b7459e1ba5c1>\u001b[0m in \u001b[0;36m<module>\u001b[1;34m\u001b[0m\n\u001b[1;32m----> 1\u001b[1;33m \u001b[0mim\u001b[0m\u001b[1;33m.\u001b[0m\u001b[0mpng_to_jpg\u001b[0m\u001b[1;33m(\u001b[0m\u001b[1;33m)\u001b[0m\u001b[1;33m\u001b[0m\u001b[1;33m\u001b[0m\u001b[0m\n\u001b[0m",
      "\u001b[1;32mc:\\Users\\harik\\Desktop\\mywebsite\\image\\models.py\u001b[0m in \u001b[0;36mpng_to_jpg\u001b[1;34m(self)\u001b[0m\n\u001b[0;32m    105\u001b[0m \u001b[1;33m\u001b[0m\u001b[0m\n\u001b[0;32m    106\u001b[0m     \u001b[1;32mdef\u001b[0m \u001b[0mpng_to_jpg\u001b[0m\u001b[1;33m(\u001b[0m\u001b[0mself\u001b[0m\u001b[1;33m)\u001b[0m\u001b[1;33m:\u001b[0m\u001b[1;33m\u001b[0m\u001b[1;33m\u001b[0m\u001b[0m\n\u001b[1;32m--> 107\u001b[1;33m         \u001b[0mpng\u001b[0m \u001b[1;33m=\u001b[0m \u001b[0mImage\u001b[0m\u001b[1;33m.\u001b[0m\u001b[0mopen\u001b[0m\u001b[1;33m(\u001b[0m\u001b[0mself\u001b[0m\u001b[1;33m.\u001b[0m\u001b[0mimg_file\u001b[0m\u001b[1;33m)\u001b[0m\u001b[1;33m\u001b[0m\u001b[1;33m\u001b[0m\u001b[0m\n\u001b[0m\u001b[0;32m    108\u001b[0m         \u001b[0mpng\u001b[0m\u001b[1;33m.\u001b[0m\u001b[0mload\u001b[0m\u001b[1;33m(\u001b[0m\u001b[1;33m)\u001b[0m\u001b[1;33m\u001b[0m\u001b[1;33m\u001b[0m\u001b[0m\n\u001b[0;32m    109\u001b[0m         \u001b[0mimg_name\u001b[0m \u001b[1;33m=\u001b[0m \u001b[0mself\u001b[0m\u001b[1;33m.\u001b[0m\u001b[0mget_img_name\u001b[0m\u001b[1;33m(\u001b[0m\u001b[1;33m)\u001b[0m\u001b[1;33m\u001b[0m\u001b[1;33m\u001b[0m\u001b[0m\n",
      "\u001b[1;32m~\\anaconda3\\lib\\site-packages\\PIL\\Image.py\u001b[0m in \u001b[0;36mopen\u001b[1;34m(fp, mode, formats)\u001b[0m\n\u001b[0;32m   2893\u001b[0m \u001b[1;33m\u001b[0m\u001b[0m\n\u001b[0;32m   2894\u001b[0m     \u001b[1;32mtry\u001b[0m\u001b[1;33m:\u001b[0m\u001b[1;33m\u001b[0m\u001b[1;33m\u001b[0m\u001b[0m\n\u001b[1;32m-> 2895\u001b[1;33m         \u001b[0mfp\u001b[0m\u001b[1;33m.\u001b[0m\u001b[0mseek\u001b[0m\u001b[1;33m(\u001b[0m\u001b[1;36m0\u001b[0m\u001b[1;33m)\u001b[0m\u001b[1;33m\u001b[0m\u001b[1;33m\u001b[0m\u001b[0m\n\u001b[0m\u001b[0;32m   2896\u001b[0m     \u001b[1;32mexcept\u001b[0m \u001b[1;33m(\u001b[0m\u001b[0mAttributeError\u001b[0m\u001b[1;33m,\u001b[0m \u001b[0mio\u001b[0m\u001b[1;33m.\u001b[0m\u001b[0mUnsupportedOperation\u001b[0m\u001b[1;33m)\u001b[0m\u001b[1;33m:\u001b[0m\u001b[1;33m\u001b[0m\u001b[1;33m\u001b[0m\u001b[0m\n\u001b[0;32m   2897\u001b[0m         \u001b[0mfp\u001b[0m \u001b[1;33m=\u001b[0m \u001b[0mio\u001b[0m\u001b[1;33m.\u001b[0m\u001b[0mBytesIO\u001b[0m\u001b[1;33m(\u001b[0m\u001b[0mfp\u001b[0m\u001b[1;33m.\u001b[0m\u001b[0mread\u001b[0m\u001b[1;33m(\u001b[0m\u001b[1;33m)\u001b[0m\u001b[1;33m)\u001b[0m\u001b[1;33m\u001b[0m\u001b[1;33m\u001b[0m\u001b[0m\n",
      "\u001b[1;32m~\\anaconda3\\lib\\site-packages\\django\\core\\files\\utils.py\u001b[0m in \u001b[0;36m<lambda>\u001b[1;34m(self)\u001b[0m\n\u001b[0;32m     44\u001b[0m     \u001b[0mreadline\u001b[0m \u001b[1;33m=\u001b[0m \u001b[0mproperty\u001b[0m\u001b[1;33m(\u001b[0m\u001b[1;32mlambda\u001b[0m \u001b[0mself\u001b[0m\u001b[1;33m:\u001b[0m \u001b[0mself\u001b[0m\u001b[1;33m.\u001b[0m\u001b[0mfile\u001b[0m\u001b[1;33m.\u001b[0m\u001b[0mreadline\u001b[0m\u001b[1;33m)\u001b[0m\u001b[1;33m\u001b[0m\u001b[1;33m\u001b[0m\u001b[0m\n\u001b[0;32m     45\u001b[0m     \u001b[0mreadlines\u001b[0m \u001b[1;33m=\u001b[0m \u001b[0mproperty\u001b[0m\u001b[1;33m(\u001b[0m\u001b[1;32mlambda\u001b[0m \u001b[0mself\u001b[0m\u001b[1;33m:\u001b[0m \u001b[0mself\u001b[0m\u001b[1;33m.\u001b[0m\u001b[0mfile\u001b[0m\u001b[1;33m.\u001b[0m\u001b[0mreadlines\u001b[0m\u001b[1;33m)\u001b[0m\u001b[1;33m\u001b[0m\u001b[1;33m\u001b[0m\u001b[0m\n\u001b[1;32m---> 46\u001b[1;33m     \u001b[0mseek\u001b[0m \u001b[1;33m=\u001b[0m \u001b[0mproperty\u001b[0m\u001b[1;33m(\u001b[0m\u001b[1;32mlambda\u001b[0m \u001b[0mself\u001b[0m\u001b[1;33m:\u001b[0m \u001b[0mself\u001b[0m\u001b[1;33m.\u001b[0m\u001b[0mfile\u001b[0m\u001b[1;33m.\u001b[0m\u001b[0mseek\u001b[0m\u001b[1;33m)\u001b[0m\u001b[1;33m\u001b[0m\u001b[1;33m\u001b[0m\u001b[0m\n\u001b[0m\u001b[0;32m     47\u001b[0m     \u001b[0mtell\u001b[0m \u001b[1;33m=\u001b[0m \u001b[0mproperty\u001b[0m\u001b[1;33m(\u001b[0m\u001b[1;32mlambda\u001b[0m \u001b[0mself\u001b[0m\u001b[1;33m:\u001b[0m \u001b[0mself\u001b[0m\u001b[1;33m.\u001b[0m\u001b[0mfile\u001b[0m\u001b[1;33m.\u001b[0m\u001b[0mtell\u001b[0m\u001b[1;33m)\u001b[0m\u001b[1;33m\u001b[0m\u001b[1;33m\u001b[0m\u001b[0m\n\u001b[0;32m     48\u001b[0m     \u001b[0mtruncate\u001b[0m \u001b[1;33m=\u001b[0m \u001b[0mproperty\u001b[0m\u001b[1;33m(\u001b[0m\u001b[1;32mlambda\u001b[0m \u001b[0mself\u001b[0m\u001b[1;33m:\u001b[0m \u001b[0mself\u001b[0m\u001b[1;33m.\u001b[0m\u001b[0mfile\u001b[0m\u001b[1;33m.\u001b[0m\u001b[0mtruncate\u001b[0m\u001b[1;33m)\u001b[0m\u001b[1;33m\u001b[0m\u001b[1;33m\u001b[0m\u001b[0m\n",
      "\u001b[1;32m~\\anaconda3\\lib\\site-packages\\django\\db\\models\\fields\\files.py\u001b[0m in \u001b[0;36m_get_file\u001b[1;34m(self)\u001b[0m\n\u001b[0;32m     43\u001b[0m         \u001b[0mself\u001b[0m\u001b[1;33m.\u001b[0m\u001b[0m_require_file\u001b[0m\u001b[1;33m(\u001b[0m\u001b[1;33m)\u001b[0m\u001b[1;33m\u001b[0m\u001b[1;33m\u001b[0m\u001b[0m\n\u001b[0;32m     44\u001b[0m         \u001b[1;32mif\u001b[0m \u001b[0mgetattr\u001b[0m\u001b[1;33m(\u001b[0m\u001b[0mself\u001b[0m\u001b[1;33m,\u001b[0m \u001b[1;34m'_file'\u001b[0m\u001b[1;33m,\u001b[0m \u001b[1;32mNone\u001b[0m\u001b[1;33m)\u001b[0m \u001b[1;32mis\u001b[0m \u001b[1;32mNone\u001b[0m\u001b[1;33m:\u001b[0m\u001b[1;33m\u001b[0m\u001b[1;33m\u001b[0m\u001b[0m\n\u001b[1;32m---> 45\u001b[1;33m             \u001b[0mself\u001b[0m\u001b[1;33m.\u001b[0m\u001b[0m_file\u001b[0m \u001b[1;33m=\u001b[0m \u001b[0mself\u001b[0m\u001b[1;33m.\u001b[0m\u001b[0mstorage\u001b[0m\u001b[1;33m.\u001b[0m\u001b[0mopen\u001b[0m\u001b[1;33m(\u001b[0m\u001b[0mself\u001b[0m\u001b[1;33m.\u001b[0m\u001b[0mname\u001b[0m\u001b[1;33m,\u001b[0m \u001b[1;34m'rb'\u001b[0m\u001b[1;33m)\u001b[0m\u001b[1;33m\u001b[0m\u001b[1;33m\u001b[0m\u001b[0m\n\u001b[0m\u001b[0;32m     46\u001b[0m         \u001b[1;32mreturn\u001b[0m \u001b[0mself\u001b[0m\u001b[1;33m.\u001b[0m\u001b[0m_file\u001b[0m\u001b[1;33m\u001b[0m\u001b[1;33m\u001b[0m\u001b[0m\n\u001b[0;32m     47\u001b[0m \u001b[1;33m\u001b[0m\u001b[0m\n",
      "\u001b[1;32m~\\anaconda3\\lib\\site-packages\\django\\core\\files\\storage.py\u001b[0m in \u001b[0;36mopen\u001b[1;34m(self, name, mode)\u001b[0m\n\u001b[0;32m     36\u001b[0m     \u001b[1;32mdef\u001b[0m \u001b[0mopen\u001b[0m\u001b[1;33m(\u001b[0m\u001b[0mself\u001b[0m\u001b[1;33m,\u001b[0m \u001b[0mname\u001b[0m\u001b[1;33m,\u001b[0m \u001b[0mmode\u001b[0m\u001b[1;33m=\u001b[0m\u001b[1;34m'rb'\u001b[0m\u001b[1;33m)\u001b[0m\u001b[1;33m:\u001b[0m\u001b[1;33m\u001b[0m\u001b[1;33m\u001b[0m\u001b[0m\n\u001b[0;32m     37\u001b[0m         \u001b[1;34m\"\"\"Retrieve the specified file from storage.\"\"\"\u001b[0m\u001b[1;33m\u001b[0m\u001b[1;33m\u001b[0m\u001b[0m\n\u001b[1;32m---> 38\u001b[1;33m         \u001b[1;32mreturn\u001b[0m \u001b[0mself\u001b[0m\u001b[1;33m.\u001b[0m\u001b[0m_open\u001b[0m\u001b[1;33m(\u001b[0m\u001b[0mname\u001b[0m\u001b[1;33m,\u001b[0m \u001b[0mmode\u001b[0m\u001b[1;33m)\u001b[0m\u001b[1;33m\u001b[0m\u001b[1;33m\u001b[0m\u001b[0m\n\u001b[0m\u001b[0;32m     39\u001b[0m \u001b[1;33m\u001b[0m\u001b[0m\n\u001b[0;32m     40\u001b[0m     \u001b[1;32mdef\u001b[0m \u001b[0msave\u001b[0m\u001b[1;33m(\u001b[0m\u001b[0mself\u001b[0m\u001b[1;33m,\u001b[0m \u001b[0mname\u001b[0m\u001b[1;33m,\u001b[0m \u001b[0mcontent\u001b[0m\u001b[1;33m,\u001b[0m \u001b[0mmax_length\u001b[0m\u001b[1;33m=\u001b[0m\u001b[1;32mNone\u001b[0m\u001b[1;33m)\u001b[0m\u001b[1;33m:\u001b[0m\u001b[1;33m\u001b[0m\u001b[1;33m\u001b[0m\u001b[0m\n",
      "\u001b[1;32m~\\anaconda3\\lib\\site-packages\\django\\core\\files\\storage.py\u001b[0m in \u001b[0;36m_open\u001b[1;34m(self, name, mode)\u001b[0m\n\u001b[0;32m    241\u001b[0m \u001b[1;33m\u001b[0m\u001b[0m\n\u001b[0;32m    242\u001b[0m     \u001b[1;32mdef\u001b[0m \u001b[0m_open\u001b[0m\u001b[1;33m(\u001b[0m\u001b[0mself\u001b[0m\u001b[1;33m,\u001b[0m \u001b[0mname\u001b[0m\u001b[1;33m,\u001b[0m \u001b[0mmode\u001b[0m\u001b[1;33m=\u001b[0m\u001b[1;34m'rb'\u001b[0m\u001b[1;33m)\u001b[0m\u001b[1;33m:\u001b[0m\u001b[1;33m\u001b[0m\u001b[1;33m\u001b[0m\u001b[0m\n\u001b[1;32m--> 243\u001b[1;33m         \u001b[1;32mreturn\u001b[0m \u001b[0mFile\u001b[0m\u001b[1;33m(\u001b[0m\u001b[0mopen\u001b[0m\u001b[1;33m(\u001b[0m\u001b[0mself\u001b[0m\u001b[1;33m.\u001b[0m\u001b[0mpath\u001b[0m\u001b[1;33m(\u001b[0m\u001b[0mname\u001b[0m\u001b[1;33m)\u001b[0m\u001b[1;33m,\u001b[0m \u001b[0mmode\u001b[0m\u001b[1;33m)\u001b[0m\u001b[1;33m)\u001b[0m\u001b[1;33m\u001b[0m\u001b[1;33m\u001b[0m\u001b[0m\n\u001b[0m\u001b[0;32m    244\u001b[0m \u001b[1;33m\u001b[0m\u001b[0m\n\u001b[0;32m    245\u001b[0m     \u001b[1;32mdef\u001b[0m \u001b[0m_save\u001b[0m\u001b[1;33m(\u001b[0m\u001b[0mself\u001b[0m\u001b[1;33m,\u001b[0m \u001b[0mname\u001b[0m\u001b[1;33m,\u001b[0m \u001b[0mcontent\u001b[0m\u001b[1;33m)\u001b[0m\u001b[1;33m:\u001b[0m\u001b[1;33m\u001b[0m\u001b[1;33m\u001b[0m\u001b[0m\n",
      "\u001b[1;31mFileNotFoundError\u001b[0m: [Errno 2] No such file or directory: 'C:\\\\Users\\\\harik\\\\Desktop\\\\mywebsite\\\\media\\\\samplepng.png'"
     ]
    }
   ],
   "source": [
    "im.png_to_jpg()"
   ]
  },
  {
   "cell_type": "code",
   "execution_count": 8,
   "metadata": {},
   "outputs": [
    {
     "name": "stderr",
     "output_type": "stream",
     "text": [
      "There was an exception deleting the file `images/test_214lrMG.jpg` on field `image.imagefile.img_file`\n",
      "Traceback (most recent call last):\n",
      "  File \"C:\\Users\\harik\\anaconda3\\lib\\site-packages\\django_cleanup\\handlers.py\", line 97, in run_on_commit\n",
      "    file_.delete(save=False)\n",
      "  File \"C:\\Users\\harik\\anaconda3\\lib\\site-packages\\django\\db\\models\\fields\\files.py\", line 369, in delete\n",
      "    super().delete(save)\n",
      "  File \"C:\\Users\\harik\\anaconda3\\lib\\site-packages\\django\\db\\models\\fields\\files.py\", line 107, in delete\n",
      "    self.storage.delete(self.name)\n",
      "  File \"C:\\Users\\harik\\anaconda3\\lib\\site-packages\\django\\core\\files\\storage.py\", line 319, in delete\n",
      "    os.remove(name)\n",
      "PermissionError: [WinError 32] The process cannot access the file because it is being used by another process: 'C:\\\\Users\\\\harik\\\\Desktop\\\\mywebsite\\\\media\\\\images\\\\test_214lrMG.jpg'\n"
     ]
    },
    {
     "data": {
      "text/plain": [
       "(51, {'image.ImageFile': 51})"
      ]
     },
     "execution_count": 8,
     "metadata": {},
     "output_type": "execute_result"
    }
   ],
   "source": [
    "ImageFile.objects.all().delete()"
   ]
  },
  {
   "cell_type": "markdown",
   "metadata": {},
   "source": [
    "## Reshaping Images"
   ]
  },
  {
   "cell_type": "markdown",
   "metadata": {},
   "source": [
    "1. PNG images"
   ]
  },
  {
   "cell_type": "code",
   "execution_count": 13,
   "metadata": {},
   "outputs": [],
   "source": [
    "def resize_image(img_path, width, height, output_path = None):\n",
    "    img = Image.open(img_path)\n",
    "    img = img.resize((width, height), Image.ANTIALIAS)\n",
    "    if output_path:\n",
    "        img.save(output_path)\n",
    "    else:\n",
    "        img.save(img_path)\n",
    "    return img"
   ]
  },
  {
   "cell_type": "markdown",
   "metadata": {},
   "source": [
    "### Resizing Images"
   ]
  },
  {
   "cell_type": "code",
   "execution_count": 4,
   "metadata": {},
   "outputs": [],
   "source": [
    "def resize_image(input, output, size):\n",
    "\n",
    "    #Desired size of the image\n",
    "    FINAL_SIZE = size\n",
    "    #Original image directory\n",
    "    file = input\n",
    "    #Resized image directory\n",
    "    resize_image = output\n",
    "\n",
    "    iter = 1\n",
    "    print(f\"{iter} iteration\")\n",
    "\n",
    "    #Original image size\n",
    "    current_size = os.path.getsize(file)/1024\n",
    "\n",
    "    #Setting the image quality based on the ratio of the original image size \n",
    "    #and the desired size\n",
    "    fold = current_size/FINAL_SIZE\n",
    "    quality = int(100/fold)\n",
    "\n",
    "    #Resizing the image\n",
    "    o_img = Image.open(file)\n",
    "    o_img.save(resize_image, quality=quality)\n",
    "    current_size = os.path.getsize(resize_image)/1024\n",
    "    print(f\"{FINAL_SIZE} KB -> {current_size} KB\")\n",
    "\n",
    "    #Defining the prevoius size to be used in while loop\n",
    "    previous_size = current_size\n",
    "\n",
    "    #Starting the loop and keep running till the desired size is reached\n",
    "    while current_size > FINAL_SIZE:\n",
    "        iter += 1\n",
    "        print(f\"{iter} iteration\")\n",
    "\n",
    "        #reducing the quality of the image\n",
    "        quality = quality - 2\n",
    "        c_image = Image.open(resize_image)\n",
    "        c_image.save(resize_image, quality=quality)\n",
    "        current_size = os.path.getsize(resize_image)/1024\n",
    "\n",
    "        #Checking if the image size is decreasing or not\n",
    "        difference =  previous_size - current_size\n",
    "        if difference < 1:\n",
    "            print(f\"{FINAL_SIZE} KB -> {current_size} KB\")\n",
    "            print(\"No more difference\")\n",
    "            break\n",
    "\n",
    "        previous_size = current_size\n",
    "\n",
    "        if current_size <= FINAL_SIZE:\n",
    "            print(f\"{FINAL_SIZE} KB -> {current_size} KB\")\n",
    "            print(\"Done!\")\n",
    "            break\n",
    "\n",
    "        #making sure that the quality is at least 5\n",
    "        if quality < 5:\n",
    "            print(f\"{FINAL_SIZE} KB -> {current_size} KB\")\n",
    "            print(\"Quality has reached very low value (less than 5%). Aborting!\")\n",
    "            print(\"You should consider resizing the image first.\")\n",
    "            break\n",
    "\n",
    "        print(f\"{FINAL_SIZE} KB -> {current_size} KB\")\n",
    "    return c_image"
   ]
  },
  {
   "cell_type": "code",
   "execution_count": 8,
   "metadata": {},
   "outputs": [],
   "source": [
    "im = ImageFile.objects.filter(pk=117)[0]"
   ]
  },
  {
   "cell_type": "code",
   "execution_count": 9,
   "metadata": {},
   "outputs": [],
   "source": [
    "def change_path_format(path):\n",
    "    path = path.strip(\"/\")\n",
    "    path = path.replace(\"/\", \"\\\\\")\n",
    "    return path"
   ]
  },
  {
   "cell_type": "code",
   "execution_count": 10,
   "metadata": {},
   "outputs": [],
   "source": [
    "path = im.img_file.url"
   ]
  },
  {
   "cell_type": "code",
   "execution_count": 12,
   "metadata": {},
   "outputs": [
    {
     "data": {
      "text/plain": [
       "1043.123046875"
      ]
     },
     "execution_count": 12,
     "metadata": {},
     "output_type": "execute_result"
    }
   ],
   "source": [
    "os.path.getsize(change_path_format(path))/1024"
   ]
  },
  {
   "cell_type": "code",
   "execution_count": 35,
   "metadata": {},
   "outputs": [
    {
     "data": {
      "text/plain": [
       "'sample'"
      ]
     },
     "execution_count": 35,
     "metadata": {},
     "output_type": "execute_result"
    }
   ],
   "source": [
    "im.img_file.name.split(\"/\")[-1].split(\".\")[0]"
   ]
  },
  {
   "cell_type": "code",
   "execution_count": 14,
   "metadata": {},
   "outputs": [
    {
     "name": "stdout",
     "output_type": "stream",
     "text": [
      "1 iteration\n",
      "500 KB -> 943.74609375 KB\n",
      "2 iteration\n",
      "500 KB -> 943.74609375 KB\n",
      "No more difference\n"
     ]
    }
   ],
   "source": [
    "img = im.resize_image(500)"
   ]
  },
  {
   "cell_type": "code",
   "execution_count": 15,
   "metadata": {},
   "outputs": [],
   "source": [
    "path = change_path_format(im.img_file.url)"
   ]
  },
  {
   "cell_type": "code",
   "execution_count": 19,
   "metadata": {},
   "outputs": [
    {
     "name": "stdout",
     "output_type": "stream",
     "text": [
      "1 iteration\n",
      "37\n",
      "350 KB -> 943.74609375 KB\n",
      "2 iteration\n",
      "35\n",
      "350 KB -> 943.74609375 KB\n",
      "No more difference\n"
     ]
    }
   ],
   "source": [
    "#Desired size of the image\n",
    "FINAL_SIZE = 350\n",
    "#Original image directory\n",
    "file = 'samplepng.png'\n",
    "#Resized image directory\n",
    "resize_image = \"samplepng_reduced.png\"\n",
    "\n",
    "iter = 1\n",
    "print(f\"{iter} iteration\")\n",
    "\n",
    "#Original image size\n",
    "current_size = os.path.getsize(file)/1024\n",
    "\n",
    "#Setting the image quality based on the ratio of the original image size \n",
    "#and the desired size\n",
    "fold = current_size/FINAL_SIZE\n",
    "quality = int(100/fold)\n",
    "print(quality)\n",
    "#Resizing the image\n",
    "o_img = Image.open(file)\n",
    "o_img.save(resize_image, quality=quality)\n",
    "current_size = os.path.getsize(resize_image)/1024\n",
    "print(f\"{FINAL_SIZE} KB -> {current_size} KB\")\n",
    "\n",
    "#Defining the prevoius size to be used in while loop\n",
    "previous_size = current_size\n",
    "\n",
    "#Starting the loop and keep running till the desired size is reached\n",
    "while current_size > FINAL_SIZE:\n",
    "    iter += 1\n",
    "    print(f\"{iter} iteration\")\n",
    "\n",
    "    #reducing the quality of the image\n",
    "    quality = quality - 2\n",
    "    print(quality)\n",
    "    o_img = Image.open(resize_image)\n",
    "    o_img.save(resize_image, quality=quality)\n",
    "    current_size = os.path.getsize(resize_image)/1024\n",
    "\n",
    "    #Checking if the image size is decreasing or not\n",
    "    difference =  previous_size - current_size\n",
    "    if difference < 1:\n",
    "        print(f\"{FINAL_SIZE} KB -> {current_size} KB\")\n",
    "        print(\"No more difference\")\n",
    "        break\n",
    "\n",
    "    previous_size = current_size\n",
    "\n",
    "    if current_size <= FINAL_SIZE:\n",
    "        print(f\"{FINAL_SIZE} KB -> {current_size} KB\")\n",
    "        print(\"Done!\")\n",
    "        break\n",
    "\n",
    "    #making sure that the quality is at least 5\n",
    "    if quality < 5:\n",
    "        print(f\"{FINAL_SIZE} KB -> {current_size} KB\")\n",
    "        print(\"Quality has reached very low value (less than 5%). Aborting!\")\n",
    "        break\n",
    "\n",
    "    print(f\"{FINAL_SIZE} KB -> {current_size} KB\")"
   ]
  },
  {
   "cell_type": "code",
   "execution_count": 28,
   "metadata": {},
   "outputs": [],
   "source": [
    "png = Image.open(path)\n",
    "png.load() # required for png.split()\n",
    "\n",
    "background = Image.new(\"RGB\", png.size, (255, 255, 255))\n",
    "background.paste(png, mask=png.split()[3]) # 3 is the alpha channel\n",
    "\n",
    "background.save('foo.jpg', 'JPEG', quality=50)"
   ]
  },
  {
   "cell_type": "code",
   "execution_count": 26,
   "metadata": {},
   "outputs": [],
   "source": [
    "o_img = Image.open(path)\n",
    "o_img.__setattr__('mode', 'RGB')"
   ]
  },
  {
   "cell_type": "code",
   "execution_count": 7,
   "metadata": {},
   "outputs": [],
   "source": [
    "import os"
   ]
  },
  {
   "cell_type": "code",
   "execution_count": 17,
   "metadata": {},
   "outputs": [
    {
     "data": {
      "text/plain": [
       "1593.076171875"
      ]
     },
     "execution_count": 17,
     "metadata": {},
     "output_type": "execute_result"
    }
   ],
   "source": [
    "os.path.getsize(\"samplejpg.jpg\")/1024"
   ]
  },
  {
   "cell_type": "markdown",
   "metadata": {},
   "source": [
    "### Changing File Format"
   ]
  },
  {
   "cell_type": "markdown",
   "metadata": {},
   "source": [
    "### PNG to Jpeg"
   ]
  },
  {
   "cell_type": "code",
   "execution_count": 31,
   "metadata": {},
   "outputs": [],
   "source": [
    "png = Image.open(path)\n",
    "png.load() # required for png.split()\n",
    "background = Image.new(\"RGB\", png.size, (255, 255, 255))\n",
    "background.paste(png, mask=png.split()[3]) # 3 is the alpha channel\n",
    "background.save(f'png_converted.jpg', 'JPEG')"
   ]
  },
  {
   "cell_type": "markdown",
   "metadata": {},
   "source": [
    "### Jpeg to PNG"
   ]
  },
  {
   "cell_type": "code",
   "execution_count": 33,
   "metadata": {},
   "outputs": [],
   "source": [
    "path = \"samplejpg.jpg\"\n",
    "jpg = Image.open(path)\n",
    "jpg.save(\"jpgtopng.png\", \"PNG\")"
   ]
  },
  {
   "cell_type": "code",
   "execution_count": 1,
   "metadata": {},
   "outputs": [
    {
     "ename": "NameError",
     "evalue": "name 'Image' is not defined",
     "output_type": "error",
     "traceback": [
      "\u001b[1;31m---------------------------------------------------------------------------\u001b[0m",
      "\u001b[1;31mNameError\u001b[0m                                 Traceback (most recent call last)",
      "\u001b[1;32m<ipython-input-1-1e58fcc01ec9>\u001b[0m in \u001b[0;36m<module>\u001b[1;34m\u001b[0m\n\u001b[1;32m----> 1\u001b[1;33m \u001b[0mjpg\u001b[0m \u001b[1;33m=\u001b[0m \u001b[0mImage\u001b[0m\u001b[1;33m.\u001b[0m\u001b[0mopen\u001b[0m\u001b[1;33m(\u001b[0m\u001b[0mpath\u001b[0m\u001b[1;33m)\u001b[0m\u001b[1;33m\u001b[0m\u001b[1;33m\u001b[0m\u001b[0m\n\u001b[0m\u001b[0;32m      2\u001b[0m \u001b[0mbackground\u001b[0m \u001b[1;33m=\u001b[0m \u001b[0mImage\u001b[0m\u001b[1;33m.\u001b[0m\u001b[0mnew\u001b[0m\u001b[1;33m(\u001b[0m\u001b[1;34m\"RGBA\"\u001b[0m\u001b[1;33m,\u001b[0m \u001b[0mjpg\u001b[0m\u001b[1;33m.\u001b[0m\u001b[0msize\u001b[0m\u001b[1;33m,\u001b[0m \u001b[1;33m(\u001b[0m\u001b[1;36m255\u001b[0m\u001b[1;33m,\u001b[0m \u001b[1;36m255\u001b[0m\u001b[1;33m,\u001b[0m \u001b[1;36m255\u001b[0m\u001b[1;33m)\u001b[0m\u001b[1;33m)\u001b[0m\u001b[1;33m\u001b[0m\u001b[1;33m\u001b[0m\u001b[0m\n\u001b[0;32m      3\u001b[0m \u001b[0mbackground\u001b[0m\u001b[1;33m.\u001b[0m\u001b[0mpaste\u001b[0m\u001b[1;33m(\u001b[0m\u001b[0mjpg\u001b[0m\u001b[1;33m,\u001b[0m \u001b[0mmask\u001b[0m\u001b[1;33m=\u001b[0m\u001b[0mjpg\u001b[0m\u001b[1;33m.\u001b[0m\u001b[0msplit\u001b[0m\u001b[1;33m(\u001b[0m\u001b[1;33m)\u001b[0m\u001b[1;33m[\u001b[0m\u001b[1;36m3\u001b[0m\u001b[1;33m]\u001b[0m\u001b[1;33m)\u001b[0m\u001b[1;33m\u001b[0m\u001b[1;33m\u001b[0m\u001b[0m\n",
      "\u001b[1;31mNameError\u001b[0m: name 'Image' is not defined"
     ]
    }
   ],
   "source": [
    "jpg = Image.open(path)\n",
    "background = Image.new(\"RGBA\", jpg.size, (255, 255, 255))\n",
    "background.paste(jpg, mask=jpg.split()[3])"
   ]
  },
  {
   "cell_type": "code",
   "execution_count": 37,
   "metadata": {},
   "outputs": [],
   "source": [
    "background.save(f'jpg_converted.png', 'PNG')"
   ]
  },
  {
   "cell_type": "code",
   "execution_count": 10,
   "metadata": {},
   "outputs": [],
   "source": [
    "im = Image.open(\"media\\images\\PYL749_Quantum_Information_and_Computation_rp4JcIP.png\")"
   ]
  },
  {
   "cell_type": "markdown",
   "metadata": {},
   "source": [
    "For JPEG, change the writemode"
   ]
  },
  {
   "cell_type": "code",
   "execution_count": 11,
   "metadata": {},
   "outputs": [],
   "source": [
    "im_jpg = im.convert(\"RGB\")\n",
    "im_jpg.save(\"test.jpg\")"
   ]
  },
  {
   "cell_type": "code",
   "execution_count": 12,
   "metadata": {},
   "outputs": [
    {
     "ename": "AttributeError",
     "evalue": "'PngImageFile' object has no attribute 'dpi'",
     "output_type": "error",
     "traceback": [
      "\u001b[1;31m---------------------------------------------------------------------------\u001b[0m",
      "\u001b[1;31mAttributeError\u001b[0m                            Traceback (most recent call last)",
      "\u001b[1;32m<ipython-input-12-3dd0f110c074>\u001b[0m in \u001b[0;36m<module>\u001b[1;34m\u001b[0m\n\u001b[1;32m----> 1\u001b[1;33m \u001b[0mim\u001b[0m\u001b[1;33m.\u001b[0m\u001b[0mdpi\u001b[0m\u001b[1;33m\u001b[0m\u001b[1;33m\u001b[0m\u001b[0m\n\u001b[0m",
      "\u001b[1;31mAttributeError\u001b[0m: 'PngImageFile' object has no attribute 'dpi'"
     ]
    }
   ],
   "source": [
    "im.dpi"
   ]
  },
  {
   "cell_type": "code",
   "execution_count": 14,
   "metadata": {},
   "outputs": [
    {
     "name": "stdout",
     "output_type": "stream",
     "text": [
      "size: 47559; factor: 9.512\n",
      "size: 6908; factor: 1.382\n",
      "size: 5298; factor: 1.060\n",
      "size: 4964; factor: 0.993\n"
     ]
    }
   ],
   "source": [
    "from PIL import Image\n",
    "import os\n",
    "import io\n",
    "\n",
    "def limit_img_size(img_filename, img_target_filename, target_filesize, tolerance=5):\n",
    "    img = img_orig = Image.open(img_filename)\n",
    "    aspect = img.size[0] / img.size[1]\n",
    "\n",
    "    while True:\n",
    "        with io.BytesIO() as buffer:\n",
    "            img.save(buffer, format=\"JPEG\")\n",
    "            data = buffer.getvalue()\n",
    "        filesize = len(data)    \n",
    "        size_deviation = filesize / target_filesize\n",
    "        print(\"size: {}; factor: {:.3f}\".format(filesize, size_deviation))\n",
    "\n",
    "        if size_deviation <= (100 + tolerance) / 100:\n",
    "            # filesize fits\n",
    "            with open(img_target_filename, \"wb\") as f:\n",
    "                f.write(data)\n",
    "            break\n",
    "        else:\n",
    "            # filesize not good enough => adapt width and height\n",
    "            # use sqrt of deviation since applied both in width and height\n",
    "            new_width = img.size[0] / size_deviation**0.5    \n",
    "            new_height = new_width / aspect\n",
    "            # resize from img_orig to not lose quality\n",
    "            img = img_orig.resize((int(new_width), int(new_height)))\n",
    "\n",
    "\n",
    "limit_img_size(\n",
    "    \"test.jpg\",   #  input file\n",
    "    \"test_with_limited_size.jpg\",     #  target file\n",
    "    5000,   # bytes    \n",
    "    tolerance = 5    # percent of what the file may be bigger than target_filesize\n",
    ")"
   ]
  },
  {
   "cell_type": "code",
   "execution_count": 3,
   "metadata": {},
   "outputs": [
    {
     "ename": "SyntaxError",
     "evalue": "name 'x' is parameter and global (<ipython-input-3-b2b2eef5dc16>, line 2)",
     "output_type": "error",
     "traceback": [
      "\u001b[1;36m  File \u001b[1;32m\"<ipython-input-3-b2b2eef5dc16>\"\u001b[1;36m, line \u001b[1;32m2\u001b[0m\n\u001b[1;33m    global x\u001b[0m\n\u001b[1;37m    ^\u001b[0m\n\u001b[1;31mSyntaxError\u001b[0m\u001b[1;31m:\u001b[0m name 'x' is parameter and global\n"
     ]
    }
   ],
   "source": [
    "def myfun(x):\n",
    "    global x\n",
    "    x = 10\n",
    "    print(x)\n",
    "\n",
    "x = 20\n",
    "myfun(x)\n",
    "print(x)"
   ]
  },
  {
   "cell_type": "code",
   "execution_count": 8,
   "metadata": {},
   "outputs": [
    {
     "name": "stdout",
     "output_type": "stream",
     "text": [
      "x inside: 20\n",
      "y inside: 20\n",
      "x outside: 20\n"
     ]
    },
    {
     "ename": "NameError",
     "evalue": "name 'y' is not defined",
     "output_type": "error",
     "traceback": [
      "\u001b[1;31m---------------------------------------------------------------------------\u001b[0m",
      "\u001b[1;31mNameError\u001b[0m                                 Traceback (most recent call last)",
      "\u001b[1;32m<ipython-input-8-6a3fd725a725>\u001b[0m in \u001b[0;36m<module>\u001b[1;34m\u001b[0m\n\u001b[0;32m      7\u001b[0m \u001b[0mmyfun\u001b[0m\u001b[1;33m(\u001b[0m\u001b[0mx\u001b[0m\u001b[1;33m)\u001b[0m\u001b[1;33m\u001b[0m\u001b[1;33m\u001b[0m\u001b[0m\n\u001b[0;32m      8\u001b[0m \u001b[0mprint\u001b[0m\u001b[1;33m(\u001b[0m\u001b[1;34m\"x outside:\"\u001b[0m\u001b[1;33m,\u001b[0m \u001b[0mx\u001b[0m\u001b[1;33m)\u001b[0m\u001b[1;33m\u001b[0m\u001b[1;33m\u001b[0m\u001b[0m\n\u001b[1;32m----> 9\u001b[1;33m \u001b[0mprint\u001b[0m\u001b[1;33m(\u001b[0m\u001b[1;34m\"y outside:\"\u001b[0m\u001b[1;33m,\u001b[0m \u001b[0my\u001b[0m\u001b[1;33m)\u001b[0m\u001b[1;33m\u001b[0m\u001b[1;33m\u001b[0m\u001b[0m\n\u001b[0m",
      "\u001b[1;31mNameError\u001b[0m: name 'y' is not defined"
     ]
    }
   ],
   "source": [
    "def myfun(x):\n",
    "    y = x\n",
    "    print(\"x inside:\", x)\n",
    "    print(\"y inside:\", y)\n",
    "\n",
    "x = 20\n",
    "myfun(x)\n",
    "print(\"x outside:\", x)\n",
    "print(\"y outside:\", y)"
   ]
  },
  {
   "cell_type": "code",
   "execution_count": 5,
   "metadata": {},
   "outputs": [
    {
     "ename": "TypeError",
     "evalue": "unhashable type: 'list'",
     "output_type": "error",
     "traceback": [
      "\u001b[1;31m---------------------------------------------------------------------------\u001b[0m",
      "\u001b[1;31mTypeError\u001b[0m                                 Traceback (most recent call last)",
      "\u001b[1;32m<ipython-input-5-71af12714d0b>\u001b[0m in \u001b[0;36m<module>\u001b[1;34m\u001b[0m\n\u001b[0;32m      1\u001b[0m \u001b[0mlist_\u001b[0m \u001b[1;33m=\u001b[0m \u001b[1;33m[\u001b[0m\u001b[1;36m1\u001b[0m\u001b[1;33m,\u001b[0m\u001b[1;36m2\u001b[0m\u001b[1;33m,\u001b[0m\u001b[1;36m3\u001b[0m\u001b[1;33m,\u001b[0m\u001b[1;36m4\u001b[0m\u001b[1;33m]\u001b[0m\u001b[1;33m\u001b[0m\u001b[1;33m\u001b[0m\u001b[0m\n\u001b[1;32m----> 2\u001b[1;33m \u001b[0mhash\u001b[0m\u001b[1;33m(\u001b[0m\u001b[0mlist_\u001b[0m\u001b[1;33m)\u001b[0m\u001b[1;33m\u001b[0m\u001b[1;33m\u001b[0m\u001b[0m\n\u001b[0m",
      "\u001b[1;31mTypeError\u001b[0m: unhashable type: 'list'"
     ]
    }
   ],
   "source": [
    "list_ = [1,2,3,4]\n",
    "hash(list_)"
   ]
  },
  {
   "cell_type": "code",
   "execution_count": 1,
   "metadata": {},
   "outputs": [],
   "source": [
    "import tensorflow as tf\n",
    "from PIL import Image"
   ]
  },
  {
   "cell_type": "code",
   "execution_count": 2,
   "metadata": {},
   "outputs": [
    {
     "name": "stdout",
     "output_type": "stream",
     "text": [
      "WARNING:tensorflow:Mixed precision compatibility check (mixed_float16): WARNING\n",
      "The dtype policy mixed_float16 may run slowly because this machine does not have a GPU. Only Nvidia GPUs with compute capability of at least 7.0 run quickly with mixed_float16.\n",
      "If you will use compatible GPU(s) not attached to this host, e.g. by running a multi-worker model, you can ignore this warning. This message will only be logged once\n"
     ]
    }
   ],
   "source": [
    "\n",
    "model = tf.keras.models.load_model(\"food_vision.h5\")"
   ]
  },
  {
   "cell_type": "code",
   "execution_count": 23,
   "metadata": {},
   "outputs": [],
   "source": [
    "def preprocess_image(path, image_shape=224):\n",
    "    image = Image.open(path)\n",
    "    image = tf.keras.preprocessing.image.img_to_array(image)\n",
    "    image = tf.image.resize(image, [image_shape, image_shape])\n",
    "    if image.shape[2] == 4:\n",
    "            image = image[:, :, :3]\n",
    "    if image.numpy().max() > 1:\n",
    "            pass\n",
    "    else:\n",
    "        image = (image * 255)\n",
    "    image = tf.cast(image, tf.float32)\n",
    "    image = tf.expand_dims(image, 0)\n",
    "    return image"
   ]
  },
  {
   "cell_type": "code",
   "execution_count": 24,
   "metadata": {},
   "outputs": [
    {
     "data": {
      "text/plain": [
       "TensorShape([1, 224, 224, 3])"
      ]
     },
     "execution_count": 24,
     "metadata": {},
     "output_type": "execute_result"
    }
   ],
   "source": [
    "im = preprocess_image(r\"C:\\Users\\harik\\Desktop\\download.jpg\")\n",
    "im.shape"
   ]
  },
  {
   "cell_type": "code",
   "execution_count": 25,
   "metadata": {},
   "outputs": [
    {
     "data": {
      "text/plain": [
       "255.0"
      ]
     },
     "execution_count": 25,
     "metadata": {},
     "output_type": "execute_result"
    }
   ],
   "source": [
    "im.numpy().max()"
   ]
  },
  {
   "cell_type": "code",
   "execution_count": 26,
   "metadata": {},
   "outputs": [
    {
     "name": "stdout",
     "output_type": "stream",
     "text": [
      "1/1 [==============================] - 3s 3s/step\n"
     ]
    }
   ],
   "source": [
    "pred = model.predict(im)"
   ]
  },
  {
   "cell_type": "code",
   "execution_count": 6,
   "metadata": {},
   "outputs": [],
   "source": [
    "class_names = [\n",
    "        \"apple_pie\",\n",
    "        \"baby_back_ribs\",\n",
    "        \"baklava\",\n",
    "        \"beef_carpaccio\",\n",
    "        \"beef_tartare\",\n",
    "        \"beet_salad\",\n",
    "        \"beignets\",\n",
    "        \"bibimbap\",\n",
    "        \"bread_pudding\",\n",
    "        \"breakfast_burrito\",\n",
    "        \"bruschetta\",\n",
    "        \"caesar_salad\",\n",
    "        \"cannoli\",\n",
    "        \"caprese_salad\",\n",
    "        \"carrot_cake\",\n",
    "        \"ceviche\",\n",
    "        \"cheesecake\",\n",
    "        \"cheese_plate\",\n",
    "        \"chicken_curry\",\n",
    "        \"chicken_quesadilla\",\n",
    "        \"chicken_wings\",\n",
    "        \"chocolate_cake\",\n",
    "        \"chocolate_mousse\",\n",
    "        \"churros\",\n",
    "        \"clam_chowder\",\n",
    "        \"club_sandwich\",\n",
    "        \"crab_cakes\",\n",
    "        \"creme_brulee\",\n",
    "        \"croque_madame\",\n",
    "        \"cup_cakes\",\n",
    "        \"deviled_eggs\",\n",
    "        \"donuts\",\n",
    "        \"dumplings\",\n",
    "        \"edamame\",\n",
    "        \"eggs_benedict\",\n",
    "        \"escargots\",\n",
    "        \"falafel\",\n",
    "        \"filet_mignon\",\n",
    "        \"fish_and_chips\",\n",
    "        \"foie_gras\",\n",
    "        \"french_fries\",\n",
    "        \"french_onion_soup\",\n",
    "        \"french_toast\",\n",
    "        \"fried_calamari\",\n",
    "        \"fried_rice\",\n",
    "        \"frozen_yogurt\",\n",
    "        \"garlic_bread\",\n",
    "        \"gnocchi\",\n",
    "        \"greek_salad\",\n",
    "        \"grilled_cheese_sandwich\",\n",
    "        \"grilled_salmon\",\n",
    "        \"guacamole\",\n",
    "        \"gyoza\",\n",
    "        \"hamburger\",\n",
    "        \"hot_and_sour_soup\",\n",
    "        \"hot_dog\",\n",
    "        \"huevos_rancheros\",\n",
    "        \"hummus\",\n",
    "        \"ice_cream\",\n",
    "        \"lasagna\",\n",
    "        \"lobster_bisque\",\n",
    "        \"lobster_roll_sandwich\",\n",
    "        \"macaroni_and_cheese\",\n",
    "        \"macarons\",\n",
    "        \"miso_soup\",\n",
    "        \"mussels\",\n",
    "        \"nachos\",\n",
    "        \"omelette\",\n",
    "        \"onion_rings\",\n",
    "        \"oysters\",\n",
    "        \"pad_thai\",\n",
    "        \"paella\",\n",
    "        \"pancakes\",\n",
    "        \"panna_cotta\",\n",
    "        \"peking_duck\",\n",
    "        \"pho\",\n",
    "        \"pizza\",\n",
    "        \"pork_chop\",\n",
    "        \"poutine\",\n",
    "        \"prime_rib\",\n",
    "        \"pulled_pork_sandwich\",\n",
    "        \"ramen\",\n",
    "        \"ravioli\",\n",
    "        \"red_velvet_cake\",\n",
    "        \"risotto\",\n",
    "        \"samosa\",\n",
    "        \"sashimi\",\n",
    "        \"scallops\",\n",
    "        \"seaweed_salad\",\n",
    "        \"shrimp_and_grits\",\n",
    "        \"spaghetti_bolognese\",\n",
    "        \"spaghetti_carbonara\",\n",
    "        \"spring_rolls\",\n",
    "        \"steak\",\n",
    "        \"strawberry_shortcake\",\n",
    "        \"sushi\",\n",
    "        \"tacos\",\n",
    "        \"takoyaki\",\n",
    "        \"tiramisu\",\n",
    "        \"tuna_tartare\",\n",
    "        \"waffles\",\n",
    "    ]"
   ]
  },
  {
   "cell_type": "code",
   "execution_count": 27,
   "metadata": {},
   "outputs": [
    {
     "data": {
      "text/plain": [
       "array([[1.55936696e-20, 1.08241527e-19, 1.60403036e-14, 3.16804621e-21,\n",
       "        5.05490858e-18, 5.00503724e-19, 5.28321763e-23, 1.67900309e-22,\n",
       "        7.85280187e-24, 1.97953068e-18, 2.68303913e-22, 8.07772143e-18,\n",
       "        1.93774453e-17, 1.74956131e-21, 2.02221788e-19, 1.67143792e-13,\n",
       "        5.16391434e-19, 2.38417815e-15, 1.36051028e-18, 2.21429564e-13,\n",
       "        1.12620601e-15, 9.56667081e-23, 1.67647758e-19, 2.73265782e-17,\n",
       "        5.11296751e-20, 2.38776975e-18, 1.26547170e-19, 5.09759810e-14,\n",
       "        2.08641007e-19, 3.00575850e-20, 3.69825007e-18, 2.77237819e-25,\n",
       "        2.90452375e-14, 9.77296977e-24, 5.27527069e-20, 3.54376456e-16,\n",
       "        4.99750921e-16, 3.66727980e-22, 7.29098865e-11, 1.13914128e-17,\n",
       "        5.05490858e-18, 1.02851407e-21, 1.17530148e-17, 4.11329391e-12,\n",
       "        2.62245206e-18, 3.16328094e-18, 9.63295101e-16, 4.16183243e-25,\n",
       "        1.10742258e-23, 4.80892843e-12, 1.30367807e-16, 2.45986012e-15,\n",
       "        4.73437305e-12, 4.80318869e-20, 8.25191140e-19, 4.56400336e-22,\n",
       "        1.10243278e-14, 6.62062392e-16, 1.64108860e-18, 5.33586072e-22,\n",
       "        2.00226693e-20, 6.36319091e-20, 8.59868971e-18, 6.38237653e-26,\n",
       "        7.36592865e-21, 2.49186140e-20, 2.41444398e-09, 2.31082468e-15,\n",
       "        6.83078497e-16, 1.44825563e-18, 3.07057582e-21, 2.15263983e-19,\n",
       "        1.03876235e-20, 3.62563699e-20, 5.79375137e-20, 1.71005364e-17,\n",
       "        6.03722733e-19, 2.33736608e-17, 1.49647908e-21, 1.19238495e-25,\n",
       "        1.30564204e-19, 6.69666606e-18, 1.46048623e-14, 2.86038277e-25,\n",
       "        2.70977361e-21, 1.00000000e+00, 5.78503651e-17, 2.57096152e-20,\n",
       "        2.39136683e-21, 5.91868973e-21, 2.11355302e-24, 1.28000646e-21,\n",
       "        5.39546760e-13, 3.62563699e-20, 8.71055289e-23, 3.00123758e-17,\n",
       "        1.44390218e-12, 6.44597228e-25, 3.78939147e-25, 9.93873308e-16,\n",
       "        7.13930216e-21]], dtype=float32)"
      ]
     },
     "execution_count": 27,
     "metadata": {},
     "output_type": "execute_result"
    }
   ],
   "source": [
    "pred"
   ]
  },
  {
   "cell_type": "code",
   "execution_count": 28,
   "metadata": {},
   "outputs": [],
   "source": [
    "sorted_pred = pred.argsort()"
   ]
  },
  {
   "cell_type": "code",
   "execution_count": 29,
   "metadata": {},
   "outputs": [],
   "source": [
    "import numpy as np"
   ]
  },
  {
   "cell_type": "code",
   "execution_count": 30,
   "metadata": {},
   "outputs": [
    {
     "data": {
      "text/plain": [
       "array(['gyoza', 'grilled_cheese_sandwich', 'fish_and_chips', 'nachos',\n",
       "       'samosa'], dtype='<U23')"
      ]
     },
     "execution_count": 30,
     "metadata": {},
     "output_type": "execute_result"
    }
   ],
   "source": [
    "np.array(class_names)[sorted_pred[0][-5:]]"
   ]
  },
  {
   "cell_type": "code",
   "execution_count": 64,
   "metadata": {},
   "outputs": [
    {
     "ename": "AttributeError",
     "evalue": "'list' object has no attribute 'round'",
     "output_type": "error",
     "traceback": [
      "\u001b[1;31m---------------------------------------------------------------------------\u001b[0m",
      "\u001b[1;31mAttributeError\u001b[0m                            Traceback (most recent call last)",
      "\u001b[1;32mc:\\Users\\harik\\Desktop\\mywebsite\\temp.ipynb Cell 57'\u001b[0m in \u001b[0;36m<module>\u001b[1;34m\u001b[0m\n\u001b[0;32m      <a href='vscode-notebook-cell:/c%3A/Users/harik/Desktop/mywebsite/temp.ipynb#ch0000054?line=0'>1</a>\u001b[0m top_preds \u001b[39m=\u001b[39m \u001b[39mlist\u001b[39m(pred[\u001b[39m0\u001b[39m][sorted_pred[\u001b[39m0\u001b[39m][\u001b[39m-\u001b[39m\u001b[39m5\u001b[39m:]])\n\u001b[0;32m      <a href='vscode-notebook-cell:/c%3A/Users/harik/Desktop/mywebsite/temp.ipynb#ch0000054?line=1'>2</a>\u001b[0m top_preds\u001b[39m.\u001b[39mreverse()\n\u001b[1;32m----> <a href='vscode-notebook-cell:/c%3A/Users/harik/Desktop/mywebsite/temp.ipynb#ch0000054?line=2'>3</a>\u001b[0m top_preds\u001b[39m.\u001b[39;49mround(\u001b[39m2\u001b[39m)\n",
      "\u001b[1;31mAttributeError\u001b[0m: 'list' object has no attribute 'round'"
     ]
    }
   ],
   "source": [
    "top_preds = list(pred[0][sorted_pred[0][-5:]])\n",
    "top_preds.reverse()\n",
    "top_preds.round(2)"
   ]
  },
  {
   "cell_type": "code",
   "execution_count": 58,
   "metadata": {},
   "outputs": [
    {
     "data": {
      "text/plain": [
       "array([[9.9423960e-02, 4.1840313e-04, 2.0075201e-04, 1.8995472e-08,\n",
       "        7.7839995e-06, 9.1717939e-06, 9.3554839e-04, 1.6010124e-02,\n",
       "        8.3710877e-03, 1.3583559e-04, 1.0073244e-05, 5.5629735e-06,\n",
       "        1.7099179e-06, 1.4625703e-06, 6.5547852e-06, 1.0109652e-07,\n",
       "        2.1082908e-03, 2.8031262e-05, 4.2499200e-04, 2.6747615e-05,\n",
       "        5.7068813e-05, 4.1278326e-03, 1.9155891e-04, 9.4856843e-03,\n",
       "        3.5085238e-06, 2.2782450e-07, 1.9306132e-04, 2.4353980e-05,\n",
       "        1.5126247e-03, 3.6068601e-04, 1.9527874e-06, 1.4407553e-02,\n",
       "        2.8704572e-03, 1.7037602e-04, 7.0874125e-06, 3.9589963e-08,\n",
       "        1.7641964e-06, 1.3905685e-04, 2.5074289e-06, 7.5445114e-06,\n",
       "        1.5392191e-04, 2.1280271e-06, 1.7305904e-04, 1.3110395e-06,\n",
       "        7.8003824e-05, 3.1336944e-04, 1.1278131e-07, 1.7742990e-07,\n",
       "        3.5562900e-07, 7.9853628e-05, 1.2837478e-03, 5.9004297e-04,\n",
       "        2.8696002e-05, 7.5833970e-01, 2.3057886e-05, 8.1111139e-05,\n",
       "        2.9086682e-06, 1.4856024e-06, 1.0377371e-02, 2.3477295e-02,\n",
       "        3.2516833e-05, 3.7057396e-06, 4.3507040e-04, 3.8929174e-03,\n",
       "        9.7077325e-05, 2.1492313e-05, 2.7654757e-04, 2.0033040e-05,\n",
       "        1.1455735e-07, 3.8153425e-07, 5.9807608e-05, 7.8734040e-08,\n",
       "        5.1048719e-06, 1.7269560e-05, 7.1601705e-03, 9.6321863e-05,\n",
       "        6.0403539e-04, 4.0382861e-06, 2.9606910e-05, 6.2320958e-04,\n",
       "        8.8019033e-07, 6.5311801e-04, 1.3583559e-04, 7.8167993e-04,\n",
       "        1.2814343e-02, 2.6238102e-03, 2.2523751e-05, 9.4629377e-06,\n",
       "        8.1575618e-06, 5.9682002e-06, 2.5870231e-06, 9.6873446e-06,\n",
       "        3.1271131e-05, 9.0867300e-03, 4.5856083e-05, 4.7582639e-06,\n",
       "        1.0810241e-03, 1.3876481e-05, 2.0918839e-03, 8.3034640e-05,\n",
       "        4.1514705e-04]], dtype=float32)"
      ]
     },
     "execution_count": 58,
     "metadata": {},
     "output_type": "execute_result"
    }
   ],
   "source": [
    "pred"
   ]
  },
  {
   "cell_type": "code",
   "execution_count": null,
   "metadata": {},
   "outputs": [],
   "source": []
  }
 ],
 "metadata": {
  "kernelspec": {
   "display_name": "Python 3.9.7",
   "language": "python",
   "name": "python3"
  },
  "language_info": {
   "codemirror_mode": {
    "name": "ipython",
    "version": 3
   },
   "file_extension": ".py",
   "mimetype": "text/x-python",
   "name": "python",
   "nbconvert_exporter": "python",
   "pygments_lexer": "ipython3",
   "version": "3.9.7"
  },
  "orig_nbformat": 4,
  "vscode": {
   "interpreter": {
    "hash": "aab34d663730b87fc1bcb7f273b4a96574629a81da745247e8baf9a1d700ba65"
   }
  }
 },
 "nbformat": 4,
 "nbformat_minor": 2
}
