{
 "cells": [
  {
   "cell_type": "code",
   "execution_count": 1,
   "metadata": {},
   "outputs": [],
   "source": [
    "import pytube"
   ]
  },
  {
   "cell_type": "code",
   "execution_count": 2,
   "metadata": {},
   "outputs": [],
   "source": [
    "url = \"https://youtu.be/RsEZmictANA\"\n",
    "yt = pytube.YouTube(url)"
   ]
  },
  {
   "cell_type": "code",
   "execution_count": 6,
   "metadata": {},
   "outputs": [
    {
     "data": {
      "text/plain": [
       "[{'Song': 'willow',\n",
       "  'Artist': 'Taylor Swift',\n",
       "  'Album': 'willow',\n",
       "  'Licensed to YouTube by': 'UMG (on behalf of TS/Republic); Sony ATV Publishing, CMRRA, LatinAutor - UMPG, UMPI, MINT_BMG, LatinAutorPerf, LatinAutor - SonyATV, BMI - Broadcast Music Inc., UNIAO BRASILEIRA DE EDITORAS DE MUSICA - UBEM, SOLAR Music Rights Management, UMPG Publishing, and 8 Music Rights Societies'}]"
      ]
     },
     "execution_count": 6,
     "metadata": {},
     "output_type": "execute_result"
    }
   ],
   "source": [
    "yt.metadata.metadata"
   ]
  },
  {
   "cell_type": "code",
   "execution_count": 9,
   "metadata": {},
   "outputs": [
    {
     "data": {
      "text/plain": [
       "[<Stream: itag=\"139\" mime_type=\"audio/mp4\" abr=\"48kbps\" acodec=\"mp4a.40.5\" progressive=\"False\" type=\"audio\">, <Stream: itag=\"140\" mime_type=\"audio/mp4\" abr=\"128kbps\" acodec=\"mp4a.40.2\" progressive=\"False\" type=\"audio\">, <Stream: itag=\"249\" mime_type=\"audio/webm\" abr=\"50kbps\" acodec=\"opus\" progressive=\"False\" type=\"audio\">, <Stream: itag=\"250\" mime_type=\"audio/webm\" abr=\"70kbps\" acodec=\"opus\" progressive=\"False\" type=\"audio\">, <Stream: itag=\"251\" mime_type=\"audio/webm\" abr=\"160kbps\" acodec=\"opus\" progressive=\"False\" type=\"audio\">]"
      ]
     },
     "execution_count": 9,
     "metadata": {},
     "output_type": "execute_result"
    }
   ],
   "source": [
    "yt.streams.filter(only_audio=True)"
   ]
  },
  {
   "cell_type": "code",
   "execution_count": 45,
   "metadata": {},
   "outputs": [],
   "source": [
    "url2 = \"https://www.youtube.com/watch?v=-7QddbvwEmY\"\n",
    "yt2 = pytube.YouTube(url2)\n",
    "url3 = \"https://youtu.be/fuSFnpiqPGs\"\n",
    "yt3 = pytube.YouTube(url3)"
   ]
  },
  {
   "cell_type": "code",
   "execution_count": 47,
   "metadata": {},
   "outputs": [],
   "source": [
    "yt4 = pytube.YouTube(\"https://youtu.be/2Vv-BfVoq4g\")"
   ]
  },
  {
   "cell_type": "code",
   "execution_count": 22,
   "metadata": {},
   "outputs": [
    {
     "data": {
      "text/plain": [
       "8.416666666666666"
      ]
     },
     "execution_count": 22,
     "metadata": {},
     "output_type": "execute_result"
    }
   ],
   "source": [
    "yt2.length/60"
   ]
  },
  {
   "cell_type": "code",
   "execution_count": 24,
   "metadata": {},
   "outputs": [
    {
     "data": {
      "text/plain": [
       "'https://i.ytimg.com/vi/-7QddbvwEmY/sddefault.jpg'"
      ]
     },
     "execution_count": 24,
     "metadata": {},
     "output_type": "execute_result"
    }
   ],
   "source": [
    "yt2.thumbnail_url"
   ]
  },
  {
   "cell_type": "markdown",
   "metadata": {},
   "source": [
    "### Getting Details"
   ]
  },
  {
   "cell_type": "code",
   "execution_count": 26,
   "metadata": {},
   "outputs": [],
   "source": [
    "title = yt.title"
   ]
  },
  {
   "cell_type": "code",
   "execution_count": 28,
   "metadata": {},
   "outputs": [
    {
     "data": {
      "text/plain": [
       "'Doctor Strange Multiverse of Madness Trailer TVA & Darkhold Easter Eggs!'"
      ]
     },
     "execution_count": 28,
     "metadata": {},
     "output_type": "execute_result"
    }
   ],
   "source": [
    "yt2.title"
   ]
  },
  {
   "cell_type": "code",
   "execution_count": 33,
   "metadata": {},
   "outputs": [],
   "source": [
    "def get_length(time):\n",
    "    minutes = time // 60 % 60\n",
    "    seconds = time % 60\n",
    "    return f\"{minutes}:{seconds}\""
   ]
  },
  {
   "cell_type": "code",
   "execution_count": 36,
   "metadata": {},
   "outputs": [
    {
     "data": {
      "text/plain": [
       "'8:25'"
      ]
     },
     "execution_count": 36,
     "metadata": {},
     "output_type": "execute_result"
    }
   ],
   "source": [
    "get_length(yt2.length)"
   ]
  },
  {
   "cell_type": "code",
   "execution_count": 37,
   "metadata": {},
   "outputs": [],
   "source": [
    "thumb_url = yt2.thumbnail_url"
   ]
  },
  {
   "cell_type": "code",
   "execution_count": 40,
   "metadata": {},
   "outputs": [
    {
     "data": {
      "text/plain": [
       "'New Rockstars'"
      ]
     },
     "execution_count": 40,
     "metadata": {},
     "output_type": "execute_result"
    }
   ],
   "source": [
    "yt2.author"
   ]
  },
  {
   "cell_type": "code",
   "execution_count": 44,
   "metadata": {},
   "outputs": [
    {
     "data": {
      "text/plain": [
       "[{'Song': 'willow',\n",
       "  'Artist': 'Taylor Swift',\n",
       "  'Album': 'willow',\n",
       "  'Licensed to YouTube by': 'UMG (on behalf of TS/Republic); Sony ATV Publishing, CMRRA, LatinAutor - UMPG, UMPI, MINT_BMG, LatinAutorPerf, LatinAutor - SonyATV, BMI - Broadcast Music Inc., UNIAO BRASILEIRA DE EDITORAS DE MUSICA - UBEM, SOLAR Music Rights Management, UMPG Publishing, and 8 Music Rights Societies'}]"
      ]
     },
     "execution_count": 44,
     "metadata": {},
     "output_type": "execute_result"
    }
   ],
   "source": [
    "yt.metadata.metadata"
   ]
  },
  {
   "cell_type": "code",
   "execution_count": 46,
   "metadata": {},
   "outputs": [
    {
     "data": {
      "text/plain": [
       "[]"
      ]
     },
     "execution_count": 46,
     "metadata": {},
     "output_type": "execute_result"
    }
   ],
   "source": [
    "yt3.metadata.metadata"
   ]
  },
  {
   "cell_type": "code",
   "execution_count": 50,
   "metadata": {},
   "outputs": [
    {
     "data": {
      "text/plain": [
       "('the best books i read in 2021', 'Man Carrying Thing')"
      ]
     },
     "execution_count": 50,
     "metadata": {},
     "output_type": "execute_result"
    }
   ],
   "source": [
    "yt3.title, yt3.author"
   ]
  },
  {
   "cell_type": "code",
   "execution_count": 48,
   "metadata": {},
   "outputs": [
    {
     "data": {
      "text/plain": [
       "[{'Song': 'Perfect',\n",
       "  'Artist': 'Ed Sheeran',\n",
       "  'Album': 'Perfect',\n",
       "  'Licensed to YouTube by': 'WMG (on behalf of East West Records UK Ltd); SOLAR Music Rights Management, CMRRA, Sony ATV Publishing, LatinAutorPerf, LatinAutor - SonyATV, UNIAO BRASILEIRA DE EDITORAS DE MUSICA - UBEM, BMI - Broadcast Music Inc., MINT_BMG, and 14 Music Rights Societies'}]"
      ]
     },
     "execution_count": 48,
     "metadata": {},
     "output_type": "execute_result"
    }
   ],
   "source": [
    "yt4.metadata.metadata"
   ]
  },
  {
   "cell_type": "markdown",
   "metadata": {},
   "source": [
    "Get the following details:\n",
    "1. Title\n",
    "2. Artist\n",
    "3. Album\n",
    "4. Duration"
   ]
  },
  {
   "cell_type": "code",
   "execution_count": 67,
   "metadata": {},
   "outputs": [],
   "source": [
    "def get_details(yt):\n",
    "    \"\"\"takes a pytube object and returns details\"\"\"\n",
    "\n",
    "    details = yt.metadata.metadata\n",
    "    is_song = False\n",
    "    if details:\n",
    "        details = details[0]\n",
    "        if \"Song\" in details.keys():\n",
    "            is_song = True\n",
    "\n",
    "        try:\n",
    "            title = details[\"Song\"]\n",
    "        except KeyError:\n",
    "            title = yt.title\n",
    "        \n",
    "        try:\n",
    "            artist = details[\"Artist\"]\n",
    "        except KeyError:\n",
    "            artist = yt.author\n",
    "        \n",
    "        try:\n",
    "            album = details[\"Album\"]\n",
    "        except KeyError:\n",
    "            album = \"Unknown\"\n",
    "    else:\n",
    "        title = yt.title\n",
    "        artist = yt.author\n",
    "        album = \"Unknown\"\n",
    "\n",
    "    duration = get_length(yt.length)\n",
    "    thumbnail = yt.thumbnail_url\n",
    "\n",
    "    return {\n",
    "        \"title\": title,\n",
    "        \"artist\": artist,\n",
    "        \"album\": album,\n",
    "        \"duration\": duration,\n",
    "        \"thumbnail\": yt.thumbnail_url,\n",
    "        \"is_song\": is_song,\n",
    "    }"
   ]
  },
  {
   "cell_type": "code",
   "execution_count": 68,
   "metadata": {},
   "outputs": [
    {
     "data": {
      "text/plain": [
       "{'title': 'willow',\n",
       " 'artist': 'Taylor Swift',\n",
       " 'album': 'willow',\n",
       " 'duration': '4:13',\n",
       " 'thumbnail': 'https://i.ytimg.com/vi/RsEZmictANA/sddefault.jpg',\n",
       " 'is_song': True}"
      ]
     },
     "execution_count": 68,
     "metadata": {},
     "output_type": "execute_result"
    }
   ],
   "source": [
    "get_details(yt)"
   ]
  },
  {
   "cell_type": "code",
   "execution_count": 69,
   "metadata": {},
   "outputs": [
    {
     "data": {
      "text/plain": [
       "{'title': 'Doctor Strange Multiverse of Madness Trailer TVA & Darkhold Easter Eggs!',\n",
       " 'artist': 'New Rockstars',\n",
       " 'album': 'Unknown',\n",
       " 'duration': '8:25',\n",
       " 'thumbnail': 'https://i.ytimg.com/vi/-7QddbvwEmY/sddefault.jpg',\n",
       " 'is_song': False}"
      ]
     },
     "execution_count": 69,
     "metadata": {},
     "output_type": "execute_result"
    }
   ],
   "source": [
    "get_details(yt2)"
   ]
  },
  {
   "cell_type": "code",
   "execution_count": 70,
   "metadata": {},
   "outputs": [
    {
     "data": {
      "text/plain": [
       "{'title': 'the best books i read in 2021',\n",
       " 'artist': 'Man Carrying Thing',\n",
       " 'album': 'Unknown',\n",
       " 'duration': '9:48',\n",
       " 'thumbnail': 'https://i.ytimg.com/vi/fuSFnpiqPGs/hqdefault.jpg',\n",
       " 'is_song': False}"
      ]
     },
     "execution_count": 70,
     "metadata": {},
     "output_type": "execute_result"
    }
   ],
   "source": [
    "get_details(yt3)"
   ]
  },
  {
   "cell_type": "code",
   "execution_count": 71,
   "metadata": {},
   "outputs": [
    {
     "data": {
      "text/plain": [
       "{'title': 'Perfect',\n",
       " 'artist': 'Ed Sheeran',\n",
       " 'album': 'Perfect',\n",
       " 'duration': '4:40',\n",
       " 'thumbnail': 'https://i.ytimg.com/vi/2Vv-BfVoq4g/sddefault.jpg',\n",
       " 'is_song': True}"
      ]
     },
     "execution_count": 71,
     "metadata": {},
     "output_type": "execute_result"
    }
   ],
   "source": [
    "get_details(yt4)"
   ]
  },
  {
   "cell_type": "code",
   "execution_count": 72,
   "metadata": {},
   "outputs": [
    {
     "data": {
      "text/plain": [
       "{'title': 'Idina Menzel - Let It Go (from Frozen) (Official Video)',\n",
       " 'artist': 'DisneyMusicVEVO',\n",
       " 'album': 'Unknown',\n",
       " 'duration': '3:45',\n",
       " 'thumbnail': 'https://i.ytimg.com/vi/YVVTZgwYwVo/sddefault.jpg',\n",
       " 'is_song': False}"
      ]
     },
     "execution_count": 72,
     "metadata": {},
     "output_type": "execute_result"
    }
   ],
   "source": [
    "get_details(pytube.YouTube(\"https://youtu.be/YVVTZgwYwVo\"))"
   ]
  },
  {
   "cell_type": "code",
   "execution_count": 74,
   "metadata": {},
   "outputs": [
    {
     "ename": "RegexMatchError",
     "evalue": "regex_search: could not find match for (?:v=|\\/)([0-9A-Za-z_-]{11}).*",
     "output_type": "error",
     "traceback": [
      "\u001b[1;31m---------------------------------------------------------------------------\u001b[0m",
      "\u001b[1;31mRegexMatchError\u001b[0m                           Traceback (most recent call last)",
      "\u001b[1;32m<ipython-input-74-85387f9e2fa8>\u001b[0m in \u001b[0;36m<module>\u001b[1;34m\u001b[0m\n\u001b[1;32m----> 1\u001b[1;33m \u001b[0mpytube\u001b[0m\u001b[1;33m.\u001b[0m\u001b[0mYouTube\u001b[0m\u001b[1;33m(\u001b[0m\u001b[1;34m\"http://127.0.0.1:8000/youtube/download/\"\u001b[0m\u001b[1;33m)\u001b[0m\u001b[1;33m.\u001b[0m\u001b[0mmetadata\u001b[0m\u001b[1;33m.\u001b[0m\u001b[0mmetadata\u001b[0m\u001b[1;33m\u001b[0m\u001b[1;33m\u001b[0m\u001b[0m\n\u001b[0m",
      "\u001b[1;32m~\\anaconda3\\lib\\site-packages\\pytube\\__main__.py\u001b[0m in \u001b[0;36m__init__\u001b[1;34m(self, url, on_progress_callback, on_complete_callback, proxies, use_oauth, allow_oauth_cache)\u001b[0m\n\u001b[0;32m     69\u001b[0m \u001b[1;33m\u001b[0m\u001b[0m\n\u001b[0;32m     70\u001b[0m         \u001b[1;31m# video_id part of /watch?v=<video_id>\u001b[0m\u001b[1;33m\u001b[0m\u001b[1;33m\u001b[0m\u001b[1;33m\u001b[0m\u001b[0m\n\u001b[1;32m---> 71\u001b[1;33m         \u001b[0mself\u001b[0m\u001b[1;33m.\u001b[0m\u001b[0mvideo_id\u001b[0m \u001b[1;33m=\u001b[0m \u001b[0mextract\u001b[0m\u001b[1;33m.\u001b[0m\u001b[0mvideo_id\u001b[0m\u001b[1;33m(\u001b[0m\u001b[0murl\u001b[0m\u001b[1;33m)\u001b[0m\u001b[1;33m\u001b[0m\u001b[1;33m\u001b[0m\u001b[0m\n\u001b[0m\u001b[0;32m     72\u001b[0m \u001b[1;33m\u001b[0m\u001b[0m\n\u001b[0;32m     73\u001b[0m         \u001b[0mself\u001b[0m\u001b[1;33m.\u001b[0m\u001b[0mwatch_url\u001b[0m \u001b[1;33m=\u001b[0m \u001b[1;34mf\"https://youtube.com/watch?v={self.video_id}\"\u001b[0m\u001b[1;33m\u001b[0m\u001b[1;33m\u001b[0m\u001b[0m\n",
      "\u001b[1;32m~\\anaconda3\\lib\\site-packages\\pytube\\extract.py\u001b[0m in \u001b[0;36mvideo_id\u001b[1;34m(url)\u001b[0m\n\u001b[0;32m    131\u001b[0m         \u001b[0mYouTube\u001b[0m \u001b[0mvideo\u001b[0m \u001b[0mid\u001b[0m\u001b[1;33m.\u001b[0m\u001b[1;33m\u001b[0m\u001b[1;33m\u001b[0m\u001b[0m\n\u001b[0;32m    132\u001b[0m     \"\"\"\n\u001b[1;32m--> 133\u001b[1;33m     \u001b[1;32mreturn\u001b[0m \u001b[0mregex_search\u001b[0m\u001b[1;33m(\u001b[0m\u001b[1;34mr\"(?:v=|\\/)([0-9A-Za-z_-]{11}).*\"\u001b[0m\u001b[1;33m,\u001b[0m \u001b[0murl\u001b[0m\u001b[1;33m,\u001b[0m \u001b[0mgroup\u001b[0m\u001b[1;33m=\u001b[0m\u001b[1;36m1\u001b[0m\u001b[1;33m)\u001b[0m\u001b[1;33m\u001b[0m\u001b[1;33m\u001b[0m\u001b[0m\n\u001b[0m\u001b[0;32m    134\u001b[0m \u001b[1;33m\u001b[0m\u001b[0m\n\u001b[0;32m    135\u001b[0m \u001b[1;33m\u001b[0m\u001b[0m\n",
      "\u001b[1;32m~\\anaconda3\\lib\\site-packages\\pytube\\helpers.py\u001b[0m in \u001b[0;36mregex_search\u001b[1;34m(pattern, string, group)\u001b[0m\n\u001b[0;32m    127\u001b[0m     \u001b[0mresults\u001b[0m \u001b[1;33m=\u001b[0m \u001b[0mregex\u001b[0m\u001b[1;33m.\u001b[0m\u001b[0msearch\u001b[0m\u001b[1;33m(\u001b[0m\u001b[0mstring\u001b[0m\u001b[1;33m)\u001b[0m\u001b[1;33m\u001b[0m\u001b[1;33m\u001b[0m\u001b[0m\n\u001b[0;32m    128\u001b[0m     \u001b[1;32mif\u001b[0m \u001b[1;32mnot\u001b[0m \u001b[0mresults\u001b[0m\u001b[1;33m:\u001b[0m\u001b[1;33m\u001b[0m\u001b[1;33m\u001b[0m\u001b[0m\n\u001b[1;32m--> 129\u001b[1;33m         \u001b[1;32mraise\u001b[0m \u001b[0mRegexMatchError\u001b[0m\u001b[1;33m(\u001b[0m\u001b[0mcaller\u001b[0m\u001b[1;33m=\u001b[0m\u001b[1;34m\"regex_search\"\u001b[0m\u001b[1;33m,\u001b[0m \u001b[0mpattern\u001b[0m\u001b[1;33m=\u001b[0m\u001b[0mpattern\u001b[0m\u001b[1;33m)\u001b[0m\u001b[1;33m\u001b[0m\u001b[1;33m\u001b[0m\u001b[0m\n\u001b[0m\u001b[0;32m    130\u001b[0m \u001b[1;33m\u001b[0m\u001b[0m\n\u001b[0;32m    131\u001b[0m     \u001b[0mlogger\u001b[0m\u001b[1;33m.\u001b[0m\u001b[0mdebug\u001b[0m\u001b[1;33m(\u001b[0m\u001b[1;34m\"matched regex search: %s\"\u001b[0m\u001b[1;33m,\u001b[0m \u001b[0mpattern\u001b[0m\u001b[1;33m)\u001b[0m\u001b[1;33m\u001b[0m\u001b[1;33m\u001b[0m\u001b[0m\n",
      "\u001b[1;31mRegexMatchError\u001b[0m: regex_search: could not find match for (?:v=|\\/)([0-9A-Za-z_-]{11}).*"
     ]
    }
   ],
   "source": [
    "pytube.YouTube(\"http://127.0.0.1:8000/youtube/download/\").metadata.metadata"
   ]
  },
  {
   "cell_type": "code",
   "execution_count": 77,
   "metadata": {},
   "outputs": [],
   "source": [
    "def validate(url):\n",
    "    \"\"\"returns True if the url is valid, False otherwise\"\"\"\n",
    "    error_text = \"\"\n",
    "    error = True\n",
    "    yt = None\n",
    "    try:\n",
    "        yt = pytube.YouTube(url)\n",
    "        error = False\n",
    "    except pytube.exceptions.RegexMatchError:\n",
    "        error_text = \"Invalid Youtube URL\"\n",
    "        return error, error_text\n",
    "    except pytube.exceptions.VideoUnavailable:\n",
    "        error_text = \"Video Unavailable\"\n",
    "        return error, error_text\n",
    "\n",
    "    length = yt.length\n",
    "    if length > 60 * 30:\n",
    "        error = True\n",
    "        error_text = (\n",
    "            \"The video is longer than half an hour. Are you sure this is a song? :)\"\n",
    "        )\n",
    "        return error, error_text\n",
    "\n",
    "    return error, error_text"
   ]
  },
  {
   "cell_type": "code",
   "execution_count": 79,
   "metadata": {},
   "outputs": [
    {
     "data": {
      "text/plain": [
       "(True, 'Invalid Youtube URL')"
      ]
     },
     "execution_count": 79,
     "metadata": {},
     "output_type": "execute_result"
    }
   ],
   "source": [
    "validate(\"http://univ.tifr.res.in/gs2020/\")"
   ]
  },
  {
   "cell_type": "code",
   "execution_count": 80,
   "metadata": {},
   "outputs": [],
   "source": [
    "details = get_details(yt)"
   ]
  },
  {
   "cell_type": "code",
   "execution_count": 83,
   "metadata": {},
   "outputs": [],
   "source": [
    "is_song = details.pop(\"is_song\")"
   ]
  },
  {
   "cell_type": "code",
   "execution_count": 84,
   "metadata": {},
   "outputs": [
    {
     "data": {
      "text/plain": [
       "True"
      ]
     },
     "execution_count": 84,
     "metadata": {},
     "output_type": "execute_result"
    }
   ],
   "source": [
    "is_song"
   ]
  },
  {
   "cell_type": "code",
   "execution_count": 85,
   "metadata": {},
   "outputs": [
    {
     "data": {
      "text/plain": [
       "{'title': 'willow',\n",
       " 'artist': 'Taylor Swift',\n",
       " 'album': 'willow',\n",
       " 'duration': '4:13',\n",
       " 'thumbnail': 'https://i.ytimg.com/vi/RsEZmictANA/sddefault.jpg'}"
      ]
     },
     "execution_count": 85,
     "metadata": {},
     "output_type": "execute_result"
    }
   ],
   "source": [
    "details"
   ]
  },
  {
   "cell_type": "code",
   "execution_count": 92,
   "metadata": {},
   "outputs": [
    {
     "data": {
      "text/plain": [
       "'https://youtube.com/watch?v=RsEZmictANA'"
      ]
     },
     "execution_count": 92,
     "metadata": {},
     "output_type": "execute_result"
    }
   ],
   "source": [
    "yt.watch_url"
   ]
  },
  {
   "cell_type": "markdown",
   "metadata": {},
   "source": [
    "### Getting the audio files"
   ]
  },
  {
   "cell_type": "code",
   "execution_count": 140,
   "metadata": {},
   "outputs": [],
   "source": [
    "def get_audio_files(yt):\n",
    "    audio_details = {}\n",
    "    files = yt.streams.filter(only_audio=True).order_by(\"abr\")\n",
    "    for file in files:\n",
    "        id = file.itag\n",
    "        file_size = round(file.filesize_approx/(1024**2),1)\n",
    "        details = [file_size, file.abr]\n",
    "        audio_details[id] = details\n",
    "    return audio_details, files"
   ]
  },
  {
   "cell_type": "code",
   "execution_count": 158,
   "metadata": {},
   "outputs": [],
   "source": [
    "audio_detials, files = get_audio_files(yt4)"
   ]
  },
  {
   "cell_type": "code",
   "execution_count": 159,
   "metadata": {},
   "outputs": [
    {
     "data": {
      "text/plain": [
       "{139: [1.7, '48kbps'],\n",
       " 249: [2.0, '50kbps'],\n",
       " 250: [2.6, '70kbps'],\n",
       " 140: [4.4, '128kbps'],\n",
       " 251: [4.9, '160kbps']}"
      ]
     },
     "execution_count": 159,
     "metadata": {},
     "output_type": "execute_result"
    }
   ],
   "source": [
    "audio_detials"
   ]
  },
  {
   "cell_type": "code",
   "execution_count": 168,
   "metadata": {},
   "outputs": [
    {
     "data": {
      "text/plain": [
       "'c:\\\\Users\\\\harik\\\\Desktop\\\\mywebsite\\\\test\\\\test.mp4'"
      ]
     },
     "execution_count": 168,
     "metadata": {},
     "output_type": "execute_result"
    }
   ],
   "source": [
    "yt.streams.get_by_itag('251').download(output_path = \"test\",filename=\"test.mp4\")"
   ]
  },
  {
   "cell_type": "code",
   "execution_count": 160,
   "metadata": {},
   "outputs": [],
   "source": [
    "download_audio(files, 140)"
   ]
  },
  {
   "cell_type": "code",
   "execution_count": 152,
   "metadata": {},
   "outputs": [
    {
     "ename": "AttributeError",
     "evalue": "can't set attribute",
     "output_type": "error",
     "traceback": [
      "\u001b[1;31m---------------------------------------------------------------------------\u001b[0m",
      "\u001b[1;31mAttributeError\u001b[0m                            Traceback (most recent call last)",
      "\u001b[1;32m<ipython-input-152-3c7801d47bda>\u001b[0m in \u001b[0;36m<module>\u001b[1;34m\u001b[0m\n\u001b[1;32m----> 1\u001b[1;33m \u001b[0myt\u001b[0m\u001b[1;33m.\u001b[0m\u001b[0mstreams\u001b[0m\u001b[1;33m.\u001b[0m\u001b[0mget_by_itag\u001b[0m\u001b[1;33m(\u001b[0m\u001b[1;36m140\u001b[0m\u001b[1;33m)\u001b[0m\u001b[1;33m.\u001b[0m\u001b[0m__setattr__\u001b[0m\u001b[1;33m(\u001b[0m\u001b[1;34m\"default_filename\"\u001b[0m\u001b[1;33m,\u001b[0m \u001b[1;34m\"140.mp3\"\u001b[0m\u001b[1;33m)\u001b[0m\u001b[1;33m\u001b[0m\u001b[1;33m\u001b[0m\u001b[0m\n\u001b[0m",
      "\u001b[1;31mAttributeError\u001b[0m: can't set attribute"
     ]
    }
   ],
   "source": [
    "yt.streams.get_by_itag(140).__setattr__(\"default_filename\", \"140.mp3\")"
   ]
  },
  {
   "cell_type": "code",
   "execution_count": 173,
   "metadata": {},
   "outputs": [
    {
     "data": {
      "text/plain": [
       "'y37hy'"
      ]
     },
     "execution_count": 173,
     "metadata": {},
     "output_type": "execute_result"
    }
   ],
   "source": [
    "import random\n",
    "import string\n",
    "ran = ''.join(random.choices(string.ascii_lowercase + string.digits, k = 5)) \n",
    "ran   "
   ]
  },
  {
   "cell_type": "code",
   "execution_count": 180,
   "metadata": {},
   "outputs": [],
   "source": [
    "languages = \"af, ar, bg, bn, ca, cs, cy, da, de, el, en, es, et, fa, fi, fr, gu, he, hi, hr, hu, id, it, ja, kn, ko, lt, lv, mk, ml, mr, ne, nl, no, pa, pl, pt, ro, ru, sk, sl, so, sq, sv, sw, ta, te, th, tl, tr, uk, ur, vi, zh-cn, zh-tw\".split(\", \")"
   ]
  },
  {
   "cell_type": "code",
   "execution_count": 181,
   "metadata": {},
   "outputs": [
    {
     "data": {
      "text/plain": [
       "['af',\n",
       " 'ar',\n",
       " 'bg',\n",
       " 'bn',\n",
       " 'ca',\n",
       " 'cs',\n",
       " 'cy',\n",
       " 'da',\n",
       " 'de',\n",
       " 'el',\n",
       " 'en',\n",
       " 'es',\n",
       " 'et',\n",
       " 'fa',\n",
       " 'fi',\n",
       " 'fr',\n",
       " 'gu',\n",
       " 'he',\n",
       " 'hi',\n",
       " 'hr',\n",
       " 'hu',\n",
       " 'id',\n",
       " 'it',\n",
       " 'ja',\n",
       " 'kn',\n",
       " 'ko',\n",
       " 'lt',\n",
       " 'lv',\n",
       " 'mk',\n",
       " 'ml',\n",
       " 'mr',\n",
       " 'ne',\n",
       " 'nl',\n",
       " 'no',\n",
       " 'pa',\n",
       " 'pl',\n",
       " 'pt',\n",
       " 'ro',\n",
       " 'ru',\n",
       " 'sk',\n",
       " 'sl',\n",
       " 'so',\n",
       " 'sq',\n",
       " 'sv',\n",
       " 'sw',\n",
       " 'ta',\n",
       " 'te',\n",
       " 'th',\n",
       " 'tl',\n",
       " 'tr',\n",
       " 'uk',\n",
       " 'ur',\n",
       " 'vi',\n",
       " 'zh-cn',\n",
       " 'zh-tw']"
      ]
     },
     "execution_count": 181,
     "metadata": {},
     "output_type": "execute_result"
    }
   ],
   "source": [
    "languages"
   ]
  },
  {
   "cell_type": "code",
   "execution_count": null,
   "metadata": {},
   "outputs": [],
   "source": []
  }
 ],
 "metadata": {
  "interpreter": {
   "hash": "ce44b17c45080b8f56a19c9450d52461d624c968fcd959bb1916985c5ffa2b94"
  },
  "kernelspec": {
   "display_name": "Python 3.8.5 64-bit ('base': conda)",
   "language": "python",
   "name": "python3"
  },
  "language_info": {
   "codemirror_mode": {
    "name": "ipython",
    "version": 3
   },
   "file_extension": ".py",
   "mimetype": "text/x-python",
   "name": "python",
   "nbconvert_exporter": "python",
   "pygments_lexer": "ipython3",
   "version": "3.8.5"
  },
  "orig_nbformat": 4
 },
 "nbformat": 4,
 "nbformat_minor": 2
}
